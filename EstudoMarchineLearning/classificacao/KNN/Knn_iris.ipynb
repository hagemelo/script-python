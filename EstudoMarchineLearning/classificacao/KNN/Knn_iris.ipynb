{
 "cells": [
  {
   "cell_type": "markdown",
   "metadata": {},
   "source": [
    "# KNN Com Dataset Iris"
   ]
  },
  {
   "cell_type": "code",
   "execution_count": 3,
   "metadata": {},
   "outputs": [],
   "source": [
    "from datetime import datetime\n",
    "import pytz\n",
    "import matplotlib.pyplot as plt\n",
    "%matplotlib inline\n",
    "import pandas as pd\n",
    "import numpy as np\n",
    "import re\n",
    "from sklearn.neighbors import KNeighborsClassifier\n",
    "from sklearn.model_selection import train_test_split\n",
    "DATASET = 'iris.data'\n"
   ]
  },
  {
   "cell_type": "code",
   "execution_count": 16,
   "metadata": {},
   "outputs": [],
   "source": [
    "def convToFloat(val):\n",
    "    result = re.sub('\\s', '0' , val)\n",
    "    return float(result)\n",
    "\n",
    "def convtClassToNumber(val):\n",
    "    if val =='Iris-setosa':\n",
    "        return 0\n",
    "    elif val =='Iris-versicolor':\n",
    "        return 1\n",
    "    else:\n",
    "        return 2\n",
    "'''\n",
    "    Iris-setosa = 0\n",
    "    Iris-versicolor = 1\n",
    "    Iris-virginica = 2\n",
    "'''"
   ]
  },
  {
   "cell_type": "code",
   "execution_count": 17,
   "metadata": {},
   "outputs": [
    {
     "data": {
      "text/html": [
       "<div>\n",
       "<style scoped>\n",
       "    .dataframe tbody tr th:only-of-type {\n",
       "        vertical-align: middle;\n",
       "    }\n",
       "\n",
       "    .dataframe tbody tr th {\n",
       "        vertical-align: top;\n",
       "    }\n",
       "\n",
       "    .dataframe thead th {\n",
       "        text-align: right;\n",
       "    }\n",
       "</style>\n",
       "<table border=\"1\" class=\"dataframe\">\n",
       "  <thead>\n",
       "    <tr style=\"text-align: right;\">\n",
       "      <th></th>\n",
       "      <th>SepalLength</th>\n",
       "      <th>SepalWidth</th>\n",
       "      <th>PetalLength</th>\n",
       "      <th>PetalWidth</th>\n",
       "      <th>Class</th>\n",
       "      <th>NClass</th>\n",
       "    </tr>\n",
       "  </thead>\n",
       "  <tbody>\n",
       "    <tr>\n",
       "      <th>0</th>\n",
       "      <td>5.1</td>\n",
       "      <td>3.5</td>\n",
       "      <td>1.4</td>\n",
       "      <td>0.2</td>\n",
       "      <td>Iris-setosa</td>\n",
       "      <td>0</td>\n",
       "    </tr>\n",
       "    <tr>\n",
       "      <th>1</th>\n",
       "      <td>4.9</td>\n",
       "      <td>3.0</td>\n",
       "      <td>1.4</td>\n",
       "      <td>0.2</td>\n",
       "      <td>Iris-setosa</td>\n",
       "      <td>0</td>\n",
       "    </tr>\n",
       "    <tr>\n",
       "      <th>2</th>\n",
       "      <td>4.7</td>\n",
       "      <td>3.2</td>\n",
       "      <td>1.3</td>\n",
       "      <td>0.2</td>\n",
       "      <td>Iris-setosa</td>\n",
       "      <td>0</td>\n",
       "    </tr>\n",
       "    <tr>\n",
       "      <th>3</th>\n",
       "      <td>4.6</td>\n",
       "      <td>3.1</td>\n",
       "      <td>1.5</td>\n",
       "      <td>0.2</td>\n",
       "      <td>Iris-setosa</td>\n",
       "      <td>0</td>\n",
       "    </tr>\n",
       "    <tr>\n",
       "      <th>4</th>\n",
       "      <td>5.0</td>\n",
       "      <td>3.6</td>\n",
       "      <td>1.4</td>\n",
       "      <td>0.2</td>\n",
       "      <td>Iris-setosa</td>\n",
       "      <td>0</td>\n",
       "    </tr>\n",
       "  </tbody>\n",
       "</table>\n",
       "</div>"
      ],
      "text/plain": [
       "   SepalLength  SepalWidth  PetalLength  PetalWidth        Class  NClass\n",
       "0          5.1         3.5          1.4         0.2  Iris-setosa       0\n",
       "1          4.9         3.0          1.4         0.2  Iris-setosa       0\n",
       "2          4.7         3.2          1.3         0.2  Iris-setosa       0\n",
       "3          4.6         3.1          1.5         0.2  Iris-setosa       0\n",
       "4          5.0         3.6          1.4         0.2  Iris-setosa       0"
      ]
     },
     "execution_count": 17,
     "metadata": {},
     "output_type": "execute_result"
    }
   ],
   "source": [
    "dfIris = pd.read_csv(DATASET,\n",
    "                   sep=',',\n",
    "                   engine='python', \n",
    "                   na_values='-', \n",
    "                   header=None,\n",
    "                   names=['SepalLength','SepalWidth','PetalLength','PetalWidth', 'Class'],\n",
    "                   converters={'SepalLength'    : convToFloat,\n",
    "                              'SepalWidth': convToFloat,\n",
    "                              'PetalLength': convToFloat,\n",
    "                              'PetalWidth': convToFloat\n",
    "                              }\n",
    "                   )\n",
    "\n",
    "dfIris['NClass'] = [convtClassToNumber(x) for x in dfIris['Class']]\n",
    "dfIris.head()"
   ]
  },
  {
   "cell_type": "markdown",
   "metadata": {},
   "source": [
    "# Split Data set Iris"
   ]
  },
  {
   "cell_type": "code",
   "execution_count": 18,
   "metadata": {},
   "outputs": [
    {
     "name": "stdout",
     "output_type": "stream",
     "text": [
      "x_treino 105\n",
      "x_teste 45\n",
      "y_treino 105\n",
      "y_teste 45\n"
     ]
    }
   ],
   "source": [
    "df_entradas = pd.DataFrame()\n",
    "df_saida = pd.DataFrame()\n",
    "df_entradas['SepalLength'] = dfIris['SepalLength']\n",
    "df_entradas['SepalWidth']  = dfIris['SepalWidth']\n",
    "df_entradas['PetalLength'] = dfIris['PetalLength']\n",
    "df_entradas['PetalWidth']  = dfIris['PetalWidth']\n",
    "df_saida['NClass']          = dfIris['NClass']\n",
    "\n",
    "x_treino, x_teste, y_treino, y_teste = train_test_split(df_entradas, df_saida, test_size=0.3, random_state=42)\n",
    "\n",
    "print('x_treino %d' % len(x_treino))\n",
    "print('x_teste %d' % len(x_teste))\n",
    "print('y_treino %d' % len(y_treino))\n",
    "print('y_teste %d' % len(y_teste))\n"
   ]
  },
  {
   "cell_type": "code",
   "execution_count": 20,
   "metadata": {},
   "outputs": [
    {
     "data": {
      "text/plain": [
       "array([1, 0, 2, 1, 1, 0, 1, 2, 1, 1, 2, 0, 0, 0, 0, 1, 2, 1, 1, 2, 0, 2,\n",
       "       0, 2, 2, 2, 2, 2, 0, 0, 0, 0, 1, 0, 0, 2, 1, 0, 0, 0, 2, 1, 1, 0,\n",
       "       0], dtype=int64)"
      ]
     },
     "execution_count": 20,
     "metadata": {},
     "output_type": "execute_result"
    }
   ],
   "source": [
    "k = 3\n",
    "p=2\n",
    "knn = KNeighborsClassifier(n_neighbors=k, p=p, weights='distance')\n",
    "knn.fit(x_treino,y_treino['NClass'].ravel())\n",
    "labels = knn.predict(x_teste)\n",
    "labels"
   ]
  },
  {
   "cell_type": "code",
   "execution_count": 21,
   "metadata": {},
   "outputs": [
    {
     "data": {
      "text/plain": [
       "1.0"
      ]
     },
     "execution_count": 21,
     "metadata": {},
     "output_type": "execute_result"
    }
   ],
   "source": [
    "knn.score(x_teste, y_teste)"
   ]
  },
  {
   "cell_type": "code",
   "execution_count": null,
   "metadata": {},
   "outputs": [],
   "source": []
  },
  {
   "cell_type": "code",
   "execution_count": null,
   "metadata": {},
   "outputs": [],
   "source": []
  }
 ],
 "metadata": {
  "kernelspec": {
   "display_name": "Python 3",
   "language": "python",
   "name": "python3"
  },
  "language_info": {
   "codemirror_mode": {
    "name": "ipython",
    "version": 3
   },
   "file_extension": ".py",
   "mimetype": "text/x-python",
   "name": "python",
   "nbconvert_exporter": "python",
   "pygments_lexer": "ipython3",
   "version": "3.7.0"
  }
 },
 "nbformat": 4,
 "nbformat_minor": 2
}
