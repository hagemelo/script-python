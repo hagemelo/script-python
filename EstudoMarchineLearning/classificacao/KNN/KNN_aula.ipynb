{
 "cells": [
  {
   "cell_type": "code",
   "execution_count": 7,
   "metadata": {},
   "outputs": [],
   "source": [
    "from datetime import datetime\n",
    "from sklearn.neighbors import KNeighborsClassifier\n",
    "import pytz\n",
    "import matplotlib.pyplot as plt\n",
    "%matplotlib inline\n",
    "import re\n",
    "import pandas as pd\n",
    "import numpy as np\n",
    "\n",
    "DATASET = 'haberman.data'"
   ]
  },
  {
   "cell_type": "code",
   "execution_count": 8,
   "metadata": {},
   "outputs": [],
   "source": [
    "def convToInt(val):\n",
    "    result = re.sub('\\s', '0' , val)\n",
    "    return int(result)\n",
    "\n",
    "def convertToDescribeSurvival(val):\n",
    "    if val == 1:\n",
    "        return 'survived'\n",
    "    else:\n",
    "        return 'died'\n"
   ]
  },
  {
   "cell_type": "code",
   "execution_count": 9,
   "metadata": {},
   "outputs": [
    {
     "data": {
      "text/html": [
       "<div>\n",
       "<style scoped>\n",
       "    .dataframe tbody tr th:only-of-type {\n",
       "        vertical-align: middle;\n",
       "    }\n",
       "\n",
       "    .dataframe tbody tr th {\n",
       "        vertical-align: top;\n",
       "    }\n",
       "\n",
       "    .dataframe thead th {\n",
       "        text-align: right;\n",
       "    }\n",
       "</style>\n",
       "<table border=\"1\" class=\"dataframe\">\n",
       "  <thead>\n",
       "    <tr style=\"text-align: right;\">\n",
       "      <th></th>\n",
       "      <th>Age</th>\n",
       "      <th>YearOfOperation</th>\n",
       "      <th>NCodesCances</th>\n",
       "      <th>Survival</th>\n",
       "      <th>SurvivalDesc</th>\n",
       "    </tr>\n",
       "  </thead>\n",
       "  <tbody>\n",
       "    <tr>\n",
       "      <th>0</th>\n",
       "      <td>30</td>\n",
       "      <td>64</td>\n",
       "      <td>1</td>\n",
       "      <td>1</td>\n",
       "      <td>survived</td>\n",
       "    </tr>\n",
       "    <tr>\n",
       "      <th>1</th>\n",
       "      <td>30</td>\n",
       "      <td>62</td>\n",
       "      <td>3</td>\n",
       "      <td>1</td>\n",
       "      <td>survived</td>\n",
       "    </tr>\n",
       "    <tr>\n",
       "      <th>2</th>\n",
       "      <td>30</td>\n",
       "      <td>65</td>\n",
       "      <td>0</td>\n",
       "      <td>1</td>\n",
       "      <td>survived</td>\n",
       "    </tr>\n",
       "    <tr>\n",
       "      <th>3</th>\n",
       "      <td>31</td>\n",
       "      <td>59</td>\n",
       "      <td>2</td>\n",
       "      <td>1</td>\n",
       "      <td>survived</td>\n",
       "    </tr>\n",
       "    <tr>\n",
       "      <th>4</th>\n",
       "      <td>31</td>\n",
       "      <td>65</td>\n",
       "      <td>4</td>\n",
       "      <td>1</td>\n",
       "      <td>survived</td>\n",
       "    </tr>\n",
       "  </tbody>\n",
       "</table>\n",
       "</div>"
      ],
      "text/plain": [
       "   Age  YearOfOperation  NCodesCances  Survival SurvivalDesc\n",
       "0   30               64             1         1     survived\n",
       "1   30               62             3         1     survived\n",
       "2   30               65             0         1     survived\n",
       "3   31               59             2         1     survived\n",
       "4   31               65             4         1     survived"
      ]
     },
     "execution_count": 9,
     "metadata": {},
     "output_type": "execute_result"
    }
   ],
   "source": [
    "dfSurvival = pd.read_csv(DATASET,\n",
    "                   sep=',',\n",
    "                   engine='python', \n",
    "                   na_values='-', \n",
    "                   header=None,\n",
    "                   #usecols=[0, 5, 7, 12, 16, 18, 21],\n",
    "                   names=['Age','YearOfOperation','NCodesCances','Survival'],\n",
    "                   converters={'Age'    : convToInt,\n",
    "                              'YearOfOperation': convToInt,\n",
    "                              'NCodesCances': convToInt,\n",
    "                              'Survival': convToInt\n",
    "                              }\n",
    "                   )\n",
    "\n",
    "dfSurvival['SurvivalDesc'] = [convertToDescribeSurvival(x) for x in dfSurvival['Survival']]\n",
    "dfSurvival.head()"
   ]
  },
  {
   "cell_type": "markdown",
   "metadata": {},
   "source": [
    "# Implementação de KNN com Sklearn"
   ]
  },
  {
   "cell_type": "code",
   "execution_count": 22,
   "metadata": {},
   "outputs": [],
   "source": [
    "df_entradas = pd.DataFrame()\n",
    "df_saida = pd.DataFrame()\n",
    "df_entradas['Age'] = dfSurvival['Age']\n",
    "df_entradas['NCodesCances'] = dfSurvival['NCodesCances']\n",
    "df_saida['Survival']= dfSurvival['Survival']"
   ]
  },
  {
   "cell_type": "code",
   "execution_count": 31,
   "metadata": {},
   "outputs": [
    {
     "name": "stdout",
     "output_type": "stream",
     "text": [
      "Total de Treinamento : 183\n",
      "Total de Teste : 123\n",
      "Total de Acertos : 92\n",
      "Porcentagem de Acertos : 74.80\n"
     ]
    },
    {
     "name": "stderr",
     "output_type": "stream",
     "text": [
      "C:\\Users\\Inmetrics\\Anaconda3\\lib\\site-packages\\ipykernel_launcher.py:6: DataConversionWarning: A column-vector y was passed when a 1d array was expected. Please change the shape of y to (n_samples, ), for example using ravel().\n",
      "  \n"
     ]
    }
   ],
   "source": [
    "p = 0.6 #Porcentagem\n",
    "k = 15 # K Distancian entre os elementos\n",
    "limite = int(p * len(dfSurvival))\n",
    "knn = KNeighborsClassifier(n_neighbors=k)\n",
    "\n",
    "knn.fit(df_entradas[:limite], df_saida[:limite])\n",
    "labels = knn.predict(df_entradas[limite:])\n",
    "acertos, indice_labels = 0, 0 \n",
    "totalTeste = (len(df_entradas)-limite)\n",
    "for i in range(limite, len(df_entradas)):\n",
    "    if labels[indice_labels] == df_saida['Survival'][i]:\n",
    "        acertos += 1\n",
    "    indice_labels +=1\n",
    "\n",
    "perAcertos = (acertos/(len(df_entradas)-limite))* 100\n",
    "    \n",
    "print('Total de Treinamento : %d' % limite)\n",
    "print('Total de Teste : %d' % totalTeste)\n",
    "print('Total de Acertos : %d' % acertos)\n",
    "print('Porcentagem de Acertos : %.2f' % perAcertos)"
   ]
  },
  {
   "cell_type": "code",
   "execution_count": null,
   "metadata": {},
   "outputs": [],
   "source": []
  }
 ],
 "metadata": {
  "kernelspec": {
   "display_name": "Python 3",
   "language": "python",
   "name": "python3"
  },
  "language_info": {
   "codemirror_mode": {
    "name": "ipython",
    "version": 3
   },
   "file_extension": ".py",
   "mimetype": "text/x-python",
   "name": "python",
   "nbconvert_exporter": "python",
   "pygments_lexer": "ipython3",
   "version": "3.7.0"
  }
 },
 "nbformat": 4,
 "nbformat_minor": 2
}
