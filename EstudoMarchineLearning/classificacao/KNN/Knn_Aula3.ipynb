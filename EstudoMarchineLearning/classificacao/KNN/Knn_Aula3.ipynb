{
 "cells": [
  {
   "cell_type": "markdown",
   "metadata": {},
   "source": [
    "### Carregar as Libs"
   ]
  },
  {
   "cell_type": "code",
   "execution_count": 13,
   "metadata": {},
   "outputs": [],
   "source": [
    "from datetime import datetime\n",
    "import pytz\n",
    "import matplotlib.pyplot as plt\n",
    "%matplotlib inline\n",
    "import pandas as pd\n",
    "import numpy as np\n",
    "import re\n",
    "from sklearn.neighbors import KNeighborsClassifier\n",
    "from sklearn.model_selection import train_test_split\n",
    "DATASET_TRAIN = 'train.csv'\n",
    "DATASET_TEST = 'test.csv'"
   ]
  },
  {
   "cell_type": "markdown",
   "metadata": {},
   "source": [
    "### Métodos para tratar dados"
   ]
  },
  {
   "cell_type": "code",
   "execution_count": 37,
   "metadata": {},
   "outputs": [],
   "source": [
    "def convToFloat(val):\n",
    "    result = re.sub('\\s', '0' , val)\n",
    "    return float(result)"
   ]
  },
  {
   "cell_type": "markdown",
   "metadata": {},
   "source": [
    "### Carregando os DataSets"
   ]
  },
  {
   "cell_type": "code",
   "execution_count": 18,
   "metadata": {},
   "outputs": [],
   "source": [
    "dftrain = pd.read_csv(DATASET_TRAIN,\n",
    "                   sep=',',\n",
    "                   engine='python', \n",
    "                   na_values='-',\n",
    "                   header=1,\n",
    "                   names=['shoeSize','Height','Class'],\n",
    "                   converters={'shoeSize': convToFloat,\n",
    "                              'Height': convToFloat\n",
    "                              }\n",
    "                   )\n",
    "\n",
    "dftest = pd.read_csv(DATASET_TEST,\n",
    "                   sep=',',\n",
    "                   engine='python', \n",
    "                   na_values='-', \n",
    "                   header=1,\n",
    "                   names=['shoeSize','Height','Class'],\n",
    "                   converters={'shoeSize': convToFloat,\n",
    "                              'Height': convToFloat\n",
    "                              }\n",
    "                   )"
   ]
  },
  {
   "cell_type": "code",
   "execution_count": 19,
   "metadata": {},
   "outputs": [],
   "source": [
    "x_treino             = pd.DataFrame()\n",
    "x_teste              = pd.DataFrame()\n",
    "y_treino             = pd.DataFrame()\n",
    "y_teste              = pd.DataFrame()\n",
    "x_treino['shoeSize'] = dftrain['shoeSize']\n",
    "x_treino['Height']   = dftrain['Height']\n",
    "x_teste['shoeSize']  = dftest['shoeSize']\n",
    "x_teste['Height']    = dftest['Height']\n",
    "y_treino['Class']    = dftrain['Class']\n",
    "y_teste['Class']     = dftest['Class']\n"
   ]
  },
  {
   "cell_type": "markdown",
   "metadata": {},
   "source": [
    "### utilizando Knn com pesos"
   ]
  },
  {
   "cell_type": "code",
   "execution_count": 28,
   "metadata": {},
   "outputs": [],
   "source": [
    "k = 3\n",
    "p=2\n",
    "knn = KNeighborsClassifier(n_neighbors=k, p=p, weights='distance')\n",
    "knn.fit(x_treino,y_treino['Class'].ravel())\n",
    "labels = knn.predict(x_teste)"
   ]
  },
  {
   "cell_type": "code",
   "execution_count": 35,
   "metadata": {},
   "outputs": [
    {
     "name": "stdout",
     "output_type": "stream",
     "text": [
      "seniors\n",
      "seniors\n"
     ]
    }
   ],
   "source": [
    "print(labels[1])\n",
    "print(y_teste['Class'][1])\n"
   ]
  },
  {
   "cell_type": "code",
   "execution_count": 36,
   "metadata": {},
   "outputs": [
    {
     "data": {
      "text/plain": [
       "0.9932885906040269"
      ]
     },
     "execution_count": 36,
     "metadata": {},
     "output_type": "execute_result"
    }
   ],
   "source": [
    "knn.score(x_teste, y_teste)"
   ]
  },
  {
   "cell_type": "code",
   "execution_count": null,
   "metadata": {},
   "outputs": [],
   "source": []
  },
  {
   "cell_type": "code",
   "execution_count": null,
   "metadata": {},
   "outputs": [],
   "source": []
  }
 ],
 "metadata": {
  "kernelspec": {
   "display_name": "Python 3",
   "language": "python",
   "name": "python3"
  },
  "language_info": {
   "codemirror_mode": {
    "name": "ipython",
    "version": 3
   },
   "file_extension": ".py",
   "mimetype": "text/x-python",
   "name": "python",
   "nbconvert_exporter": "python",
   "pygments_lexer": "ipython3",
   "version": "3.7.0"
  }
 },
 "nbformat": 4,
 "nbformat_minor": 2
}
