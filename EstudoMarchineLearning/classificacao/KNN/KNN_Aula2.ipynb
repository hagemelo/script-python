{
 "cells": [
  {
   "cell_type": "code",
   "execution_count": 25,
   "metadata": {},
   "outputs": [],
   "source": [
    "from datetime import datetime\n",
    "import pytz\n",
    "import matplotlib.pyplot as plt\n",
    "%matplotlib inline\n",
    "import pandas as pd\n",
    "import numpy as np\n",
    "from sklearn.neighbors import KNeighborsClassifier\n",
    "from sklearn.model_selection import train_test_split\n",
    "#from sklearn.cross_validation import train_test_split\n",
    "\n",
    "DATASET = 'balance-scale.data'"
   ]
  },
  {
   "cell_type": "code",
   "execution_count": 26,
   "metadata": {},
   "outputs": [
    {
     "data": {
      "text/plain": [
       "'\\n    B = 2\\n    R = 3\\n    L = 1\\n'"
      ]
     },
     "execution_count": 26,
     "metadata": {},
     "output_type": "execute_result"
    }
   ],
   "source": [
    "def convToInt(val):\n",
    "    result = re.sub('\\s', '0' , val)\n",
    "    return int(result)\n",
    "\n",
    "def trataLabel(val):\n",
    "    if val == 'B':\n",
    "        return 2\n",
    "    elif val == 'R':\n",
    "        return 3\n",
    "    else:\n",
    "        return 1\n",
    "'''\n",
    "    B = 2\n",
    "    R = 3\n",
    "    L = 1\n",
    "'''"
   ]
  },
  {
   "cell_type": "code",
   "execution_count": 27,
   "metadata": {},
   "outputs": [
    {
     "data": {
      "text/html": [
       "<div>\n",
       "<style scoped>\n",
       "    .dataframe tbody tr th:only-of-type {\n",
       "        vertical-align: middle;\n",
       "    }\n",
       "\n",
       "    .dataframe tbody tr th {\n",
       "        vertical-align: top;\n",
       "    }\n",
       "\n",
       "    .dataframe thead th {\n",
       "        text-align: right;\n",
       "    }\n",
       "</style>\n",
       "<table border=\"1\" class=\"dataframe\">\n",
       "  <thead>\n",
       "    <tr style=\"text-align: right;\">\n",
       "      <th></th>\n",
       "      <th>ClassName</th>\n",
       "      <th>Left-Weight</th>\n",
       "      <th>Left-Distance</th>\n",
       "      <th>Right-Weight</th>\n",
       "      <th>Right-Distance</th>\n",
       "      <th>NClassName</th>\n",
       "    </tr>\n",
       "  </thead>\n",
       "  <tbody>\n",
       "    <tr>\n",
       "      <th>0</th>\n",
       "      <td>B</td>\n",
       "      <td>1</td>\n",
       "      <td>1</td>\n",
       "      <td>1</td>\n",
       "      <td>1</td>\n",
       "      <td>2</td>\n",
       "    </tr>\n",
       "    <tr>\n",
       "      <th>1</th>\n",
       "      <td>R</td>\n",
       "      <td>1</td>\n",
       "      <td>1</td>\n",
       "      <td>1</td>\n",
       "      <td>2</td>\n",
       "      <td>3</td>\n",
       "    </tr>\n",
       "    <tr>\n",
       "      <th>2</th>\n",
       "      <td>R</td>\n",
       "      <td>1</td>\n",
       "      <td>1</td>\n",
       "      <td>1</td>\n",
       "      <td>3</td>\n",
       "      <td>3</td>\n",
       "    </tr>\n",
       "    <tr>\n",
       "      <th>3</th>\n",
       "      <td>R</td>\n",
       "      <td>1</td>\n",
       "      <td>1</td>\n",
       "      <td>1</td>\n",
       "      <td>4</td>\n",
       "      <td>3</td>\n",
       "    </tr>\n",
       "    <tr>\n",
       "      <th>4</th>\n",
       "      <td>R</td>\n",
       "      <td>1</td>\n",
       "      <td>1</td>\n",
       "      <td>1</td>\n",
       "      <td>5</td>\n",
       "      <td>3</td>\n",
       "    </tr>\n",
       "  </tbody>\n",
       "</table>\n",
       "</div>"
      ],
      "text/plain": [
       "  ClassName  Left-Weight  Left-Distance  Right-Weight  Right-Distance  \\\n",
       "0         B            1              1             1               1   \n",
       "1         R            1              1             1               2   \n",
       "2         R            1              1             1               3   \n",
       "3         R            1              1             1               4   \n",
       "4         R            1              1             1               5   \n",
       "\n",
       "   NClassName  \n",
       "0           2  \n",
       "1           3  \n",
       "2           3  \n",
       "3           3  \n",
       "4           3  "
      ]
     },
     "execution_count": 27,
     "metadata": {},
     "output_type": "execute_result"
    }
   ],
   "source": [
    "dfbalance = pd.read_csv(DATASET,\n",
    "                   sep=',',\n",
    "                   engine='python', \n",
    "                   na_values='-', \n",
    "                   header=None,\n",
    "                   #usecols=[0, 5, 7, 12, 16, 18, 21],\n",
    "                   names=['ClassName','Left-Weight','Left-Distance','Right-Weight', 'Right-Distance'],\n",
    "                   converters={'Left-Weight'    : convToInt,\n",
    "                              'Left-Distance': convToInt,\n",
    "                              'Right-Weight': convToInt,\n",
    "                              'Right-Distance': convToInt\n",
    "                              }\n",
    "                   )\n",
    "\n",
    "dfbalance['NClassName'] = [trataLabel(x) for x in dfbalance['ClassName']]\n",
    "dfbalance.head()"
   ]
  },
  {
   "cell_type": "markdown",
   "metadata": {},
   "source": [
    "# Split Data Frame de Teste"
   ]
  },
  {
   "cell_type": "code",
   "execution_count": 30,
   "metadata": {},
   "outputs": [
    {
     "name": "stdout",
     "output_type": "stream",
     "text": [
      "x_treino 437\n",
      "x_teste 188\n",
      "y_treino 437\n",
      "y_teste 188\n"
     ]
    }
   ],
   "source": [
    "df_entradas = pd.DataFrame()\n",
    "df_saida = pd.DataFrame()\n",
    "df_entradas['Left-Weight'] = dfbalance['Left-Weight']\n",
    "df_entradas['Left-Distance'] = dfbalance['Left-Distance']\n",
    "df_entradas['Right-Weight'] = dfbalance['Right-Weight']\n",
    "df_entradas['Right-Distance'] = dfbalance['Right-Distance']\n",
    "df_saida['NClassName']= dfbalance['NClassName']\n",
    "\n",
    "x_treino, x_teste, y_treino, y_teste = train_test_split(df_entradas, df_saida, test_size=0.3, random_state=42)\n",
    "\n",
    "print('x_treino %d' % len(x_treino))\n",
    "print('x_teste %d' % len(x_teste))\n",
    "print('y_treino %d' % len(y_treino))\n",
    "print('y_teste %d' % len(y_teste))\n"
   ]
  },
  {
   "cell_type": "code",
   "execution_count": 59,
   "metadata": {},
   "outputs": [
    {
     "name": "stdout",
     "output_type": "stream",
     "text": [
      "Porcentagem de Acertos : 86.70\n"
     ]
    },
    {
     "name": "stderr",
     "output_type": "stream",
     "text": [
      "C:\\Users\\Inmetrics\\Anaconda3\\lib\\site-packages\\ipykernel_launcher.py:4: DataConversionWarning: A column-vector y was passed when a 1d array was expected. Please change the shape of y to (n_samples, ), for example using ravel().\n",
      "  after removing the cwd from sys.path.\n"
     ]
    }
   ],
   "source": [
    "k = 17\n",
    "p=2\n",
    "knn = KNeighborsClassifier(n_neighbors=k, p=p)\n",
    "knn.fit(x_treino,y_treino)\n",
    "labels = knn.predict(x_teste)\n",
    "\n",
    "acertos = np.sum(labels == y_teste['NClassName'])\n",
    "p_acertos = (acertos/len(x_teste)) * 100\n",
    "print('Porcentagem de Acertos : %.2f' % p_acertos)"
   ]
  },
  {
   "cell_type": "markdown",
   "metadata": {},
   "source": [
    "# Verificar a Acurácia com sklearn"
   ]
  },
  {
   "cell_type": "code",
   "execution_count": 62,
   "metadata": {},
   "outputs": [
    {
     "data": {
      "text/plain": [
       "0.8670212765957447"
      ]
     },
     "execution_count": 62,
     "metadata": {},
     "output_type": "execute_result"
    }
   ],
   "source": [
    "knn.score(x_teste, y_teste)"
   ]
  },
  {
   "cell_type": "code",
   "execution_count": null,
   "metadata": {},
   "outputs": [],
   "source": []
  },
  {
   "cell_type": "code",
   "execution_count": null,
   "metadata": {},
   "outputs": [],
   "source": []
  }
 ],
 "metadata": {
  "kernelspec": {
   "display_name": "Python 3",
   "language": "python",
   "name": "python3"
  },
  "language_info": {
   "codemirror_mode": {
    "name": "ipython",
    "version": 3
   },
   "file_extension": ".py",
   "mimetype": "text/x-python",
   "name": "python",
   "nbconvert_exporter": "python",
   "pygments_lexer": "ipython3",
   "version": "3.7.0"
  }
 },
 "nbformat": 4,
 "nbformat_minor": 2
}
