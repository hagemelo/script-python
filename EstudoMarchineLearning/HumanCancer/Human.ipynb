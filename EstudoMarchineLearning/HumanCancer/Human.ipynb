{
 "cells": [
  {
   "cell_type": "code",
   "execution_count": 7,
   "metadata": {},
   "outputs": [
    {
     "data": {
      "text/plain": [
       "306"
      ]
     },
     "execution_count": 7,
     "metadata": {},
     "output_type": "execute_result"
    }
   ],
   "source": [
    "amostras = []\n",
    "with open('dataset.csv', 'r') as f:\n",
    "    for linha in f.readlines():\n",
    "        atrib = linha.replace('\\n', '').split(',')\n",
    "        amostras.append([int(atrib[0]), int(atrib[1]), int(atrib[2]), int(atrib[3])])\n",
    "len(amostras)"
   ]
  },
  {
   "cell_type": "code",
   "execution_count": 22,
   "metadata": {},
   "outputs": [],
   "source": [
    "def info_dataset(amostras, verbose=True):\n",
    "    if verbose:\n",
    "        print('Total de Amostras: %d' % len(amostras))\n",
    "    rotulo1 , rotulo2 = 0, 0\n",
    "    for amostra in amostras:\n",
    "        if amostra[-1] == 1:\n",
    "            rotulo1 += 1\n",
    "        else:\n",
    "            rotulo2 +=1\n",
    "    if verbose:\n",
    "        print('Total de Rotulo1: %d' % rotulo1)\n",
    "        print('Total de Rotulo2: %d' % rotulo2)\n",
    "    return [len(amostras), rotulo1, rotulo2]"
   ]
  },
  {
   "cell_type": "code",
   "execution_count": 27,
   "metadata": {},
   "outputs": [
    {
     "name": "stdout",
     "output_type": "stream",
     "text": [
      "Max Rotulo1 225\n",
      "Max Rotulo2 81\n"
     ]
    }
   ],
   "source": [
    "p = 0.6\n",
    "treinamento, teste = [], []\n",
    "_, rotulo1, rotulo2 = info_dataset(amostras, verbose=False)\n",
    "max_rotulo1, max_rotulo2 = int(p* rotulo1), int(p* rotulo2)\n",
    "print('Max Rotulo1 %d' % rotulo1)\n",
    "print('Max Rotulo2 %d' % rotulo2)\n",
    "total_rotulo1, total_rotulo2 = 0,0\n",
    "for amostra in amostras:\n",
    "    if (total_rotulo1 + total_rotulo2) < (max_rotulo1 + max_rotulo2):\n",
    "        treinamento.append(amostra)\n",
    "        if amostra[-1] == 1 and total_rotulo1 < max_rotulo1:\n",
    "            total_rotulo1 += 1\n",
    "        else:\n",
    "            total_rotulo2 += 1\n",
    "    else:\n",
    "        teste.append(amostra)\n"
   ]
  },
  {
   "cell_type": "code",
   "execution_count": 30,
   "metadata": {},
   "outputs": [
    {
     "name": "stdout",
     "output_type": "stream",
     "text": [
      "Total de Amostras: 183\n",
      "Total de Rotulo1: 132\n",
      "Total de Rotulo2: 51\n",
      "Total de Amostras: 123\n",
      "Total de Rotulo1: 93\n",
      "Total de Rotulo2: 30\n"
     ]
    },
    {
     "data": {
      "text/plain": [
       "[123, 93, 30]"
      ]
     },
     "execution_count": 30,
     "metadata": {},
     "output_type": "execute_result"
    }
   ],
   "source": [
    "info_dataset(treinamento)\n",
    "info_dataset(teste)"
   ]
  },
  {
   "cell_type": "code",
   "execution_count": 33,
   "metadata": {
    "collapsed": true
   },
   "outputs": [],
   "source": [
    "import math\n",
    "\n",
    "def dist_euclidiana(v1, v2):\n",
    "    dim, soma = len(v1), 0\n",
    "    for i in range(dim -1):\n",
    "        soma += math.pow(v1[i] - v2[i],2)\n",
    "    return math.sqrt(soma)"
   ]
  },
  {
   "cell_type": "code",
   "execution_count": 35,
   "metadata": {},
   "outputs": [
    {
     "data": {
      "text/plain": [
       "1.4142135623730951"
      ]
     },
     "execution_count": 35,
     "metadata": {},
     "output_type": "execute_result"
    }
   ],
   "source": [
    "v1 = [1,2,3]\n",
    "v2 = [2,1, 3]\n",
    "dist_euclidiana(v1, v2)"
   ]
  },
  {
   "cell_type": "code",
   "execution_count": null,
   "metadata": {
    "collapsed": true
   },
   "outputs": [],
   "source": [
    "def knn(treinamento, nova_amostra, k):\n",
    "    dists, tam_treino = {}, len(treinamento)\n",
    "    for i in range(tam_treino):\n",
    "        d  = dist_euclidiana(treinamento[i], nova_amostra)\n",
    "        dists[i] = d\n",
    "    \n",
    "        \n",
    "        \n",
    "        \n",
    "        \n",
    "        "
   ]
  }
 ],
 "metadata": {
  "kernelspec": {
   "display_name": "Python 3",
   "language": "python",
   "name": "python3"
  },
  "language_info": {
   "codemirror_mode": {
    "name": "ipython",
    "version": 3
   },
   "file_extension": ".py",
   "mimetype": "text/x-python",
   "name": "python",
   "nbconvert_exporter": "python",
   "pygments_lexer": "ipython3",
   "version": "3.7.0"
  }
 },
 "nbformat": 4,
 "nbformat_minor": 2
}
