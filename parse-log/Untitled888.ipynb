{
 "cells": [
  {
   "cell_type": "code",
   "execution_count": 1,
   "metadata": {},
   "outputs": [],
   "source": [
    "from datetime import datetime\n",
    "import pytz\n",
    "import matplotlib.pyplot as plt\n",
    "%matplotlib inline\n",
    "import re\n",
    "import pandas as pd\n",
    "import numpy as np\n",
    "COLUMNS = ['timeStamp','elapsed','label','responseCode','responseMessage','threadName','dataType','success','bytes','sentBytes']"
   ]
  },
  {
   "cell_type": "code",
   "execution_count": 2,
   "metadata": {},
   "outputs": [
    {
     "data": {
      "text/html": [
       "<div>\n",
       "<style scoped>\n",
       "    .dataframe tbody tr th:only-of-type {\n",
       "        vertical-align: middle;\n",
       "    }\n",
       "\n",
       "    .dataframe tbody tr th {\n",
       "        vertical-align: top;\n",
       "    }\n",
       "\n",
       "    .dataframe thead th {\n",
       "        text-align: right;\n",
       "    }\n",
       "</style>\n",
       "<table border=\"1\" class=\"dataframe\">\n",
       "  <thead>\n",
       "    <tr style=\"text-align: right;\">\n",
       "      <th></th>\n",
       "      <th>timeStamp</th>\n",
       "      <th>elapsed</th>\n",
       "      <th>label</th>\n",
       "      <th>responseCode</th>\n",
       "      <th>responseMessage</th>\n",
       "      <th>threadName</th>\n",
       "      <th>dataType</th>\n",
       "      <th>success</th>\n",
       "      <th>bytes</th>\n",
       "      <th>sentBytes</th>\n",
       "    </tr>\n",
       "  </thead>\n",
       "  <tbody>\n",
       "    <tr>\n",
       "      <th>0</th>\n",
       "      <td>1547958238841</td>\n",
       "      <td>2699</td>\n",
       "      <td>GetListDriver</td>\n",
       "      <td>200</td>\n",
       "      <td>OK</td>\n",
       "      <td>jp@gc - Stepping Thread Group 1-1</td>\n",
       "      <td>text</td>\n",
       "      <td>True</td>\n",
       "      <td>2559</td>\n",
       "      <td>2698</td>\n",
       "    </tr>\n",
       "    <tr>\n",
       "      <th>1</th>\n",
       "      <td>1547958241557</td>\n",
       "      <td>199</td>\n",
       "      <td>GetFinancialCustomerAccount</td>\n",
       "      <td>200</td>\n",
       "      <td>OK</td>\n",
       "      <td>jp@gc - Stepping Thread Group 1-1</td>\n",
       "      <td>text</td>\n",
       "      <td>True</td>\n",
       "      <td>1816</td>\n",
       "      <td>199</td>\n",
       "    </tr>\n",
       "    <tr>\n",
       "      <th>2</th>\n",
       "      <td>1547958241758</td>\n",
       "      <td>2551</td>\n",
       "      <td>GetTransactionsForExtendedCapture</td>\n",
       "      <td>200</td>\n",
       "      <td>OK</td>\n",
       "      <td>jp@gc - Stepping Thread Group 1-1</td>\n",
       "      <td>text</td>\n",
       "      <td>True</td>\n",
       "      <td>17668</td>\n",
       "      <td>2551</td>\n",
       "    </tr>\n",
       "    <tr>\n",
       "      <th>3</th>\n",
       "      <td>1547958244312</td>\n",
       "      <td>125488</td>\n",
       "      <td>GetListAccountTranscation</td>\n",
       "      <td>200</td>\n",
       "      <td>OK</td>\n",
       "      <td>jp@gc - Stepping Thread Group 1-1</td>\n",
       "      <td>text</td>\n",
       "      <td>True</td>\n",
       "      <td>5247</td>\n",
       "      <td>125488</td>\n",
       "    </tr>\n",
       "    <tr>\n",
       "      <th>4</th>\n",
       "      <td>1547958369806</td>\n",
       "      <td>127</td>\n",
       "      <td>GetListDriver</td>\n",
       "      <td>200</td>\n",
       "      <td>OK</td>\n",
       "      <td>jp@gc - Stepping Thread Group 1-1</td>\n",
       "      <td>text</td>\n",
       "      <td>True</td>\n",
       "      <td>1447</td>\n",
       "      <td>127</td>\n",
       "    </tr>\n",
       "  </tbody>\n",
       "</table>\n",
       "</div>"
      ],
      "text/plain": [
       "       timeStamp  elapsed                              label responseCode  \\\n",
       "0  1547958238841     2699                      GetListDriver          200   \n",
       "1  1547958241557      199        GetFinancialCustomerAccount          200   \n",
       "2  1547958241758     2551  GetTransactionsForExtendedCapture          200   \n",
       "3  1547958244312   125488          GetListAccountTranscation          200   \n",
       "4  1547958369806      127                      GetListDriver          200   \n",
       "\n",
       "  responseMessage                         threadName dataType  success  bytes  \\\n",
       "0              OK  jp@gc - Stepping Thread Group 1-1     text     True   2559   \n",
       "1              OK  jp@gc - Stepping Thread Group 1-1     text     True   1816   \n",
       "2              OK  jp@gc - Stepping Thread Group 1-1     text     True  17668   \n",
       "3              OK  jp@gc - Stepping Thread Group 1-1     text     True   5247   \n",
       "4              OK  jp@gc - Stepping Thread Group 1-1     text     True   1447   \n",
       "\n",
       "   sentBytes  \n",
       "0       2698  \n",
       "1        199  \n",
       "2       2551  \n",
       "3     125488  \n",
       "4        127  "
      ]
     },
     "execution_count": 2,
     "metadata": {},
     "output_type": "execute_result"
    }
   ],
   "source": [
    "\n",
    "\n",
    "jmeterlog = pd.read_csv('resultado.jtl',\n",
    "                   sep=',',\n",
    "                   engine='python', \n",
    "                   na_values='-', \n",
    "                   header=None ,\n",
    "                   names=COLUMNS\n",
    "                   )\n",
    "\n",
    "jmeterlog.head()\n",
    "\n"
   ]
  },
  {
   "cell_type": "code",
   "execution_count": 26,
   "metadata": {},
   "outputs": [
    {
     "ename": "OSError",
     "evalue": "[Errno 22] Invalid argument",
     "output_type": "error",
     "traceback": [
      "\u001b[1;31m---------------------------------------------------------------------------\u001b[0m",
      "\u001b[1;31mOSError\u001b[0m                                   Traceback (most recent call last)",
      "\u001b[1;32m<ipython-input-26-748200ca41b8>\u001b[0m in \u001b[0;36m<module>\u001b[1;34m()\u001b[0m\n\u001b[0;32m      3\u001b[0m \u001b[0mtimestamp\u001b[0m \u001b[1;33m=\u001b[0m \u001b[1;36m1547958372160\u001b[0m\u001b[1;33m\u001b[0m\u001b[0m\n\u001b[0;32m      4\u001b[0m \u001b[1;33m\u001b[0m\u001b[0m\n\u001b[1;32m----> 5\u001b[1;33m \u001b[0mdt_object\u001b[0m \u001b[1;33m=\u001b[0m \u001b[0mdatetime\u001b[0m\u001b[1;33m.\u001b[0m\u001b[0mfromtimestamp\u001b[0m\u001b[1;33m(\u001b[0m\u001b[0mint\u001b[0m\u001b[1;33m(\u001b[0m\u001b[0mtimestamp\u001b[0m\u001b[1;33m)\u001b[0m\u001b[1;33m)\u001b[0m\u001b[1;33m\u001b[0m\u001b[0m\n\u001b[0m\u001b[0;32m      6\u001b[0m \u001b[1;31m#print(dt_object)\u001b[0m\u001b[1;33m\u001b[0m\u001b[1;33m\u001b[0m\u001b[0m\n\u001b[0;32m      7\u001b[0m \u001b[1;31m#print( type(dt_object))\u001b[0m\u001b[1;33m\u001b[0m\u001b[1;33m\u001b[0m\u001b[0m\n",
      "\u001b[1;31mOSError\u001b[0m: [Errno 22] Invalid argument"
     ]
    }
   ],
   "source": [
    "import pytz\n",
    "\n",
    "timestamp = 1547958372160\n",
    "\n",
    "dt_object = datetime.fromtimestamp(int(timestamp))\n",
    "#print(dt_object)\n",
    "#print( type(dt_object))\n"
   ]
  },
  {
   "cell_type": "code",
   "execution_count": null,
   "metadata": {},
   "outputs": [],
   "source": []
  },
  {
   "cell_type": "code",
   "execution_count": null,
   "metadata": {},
   "outputs": [],
   "source": []
  },
  {
   "cell_type": "code",
   "execution_count": null,
   "metadata": {},
   "outputs": [],
   "source": []
  },
  {
   "cell_type": "code",
   "execution_count": null,
   "metadata": {},
   "outputs": [],
   "source": []
  },
  {
   "cell_type": "code",
   "execution_count": null,
   "metadata": {},
   "outputs": [],
   "source": []
  }
 ],
 "metadata": {
  "kernelspec": {
   "display_name": "Python 3",
   "language": "python",
   "name": "python3"
  },
  "language_info": {
   "codemirror_mode": {
    "name": "ipython",
    "version": 3
   },
   "file_extension": ".py",
   "mimetype": "text/x-python",
   "name": "python",
   "nbconvert_exporter": "python",
   "pygments_lexer": "ipython3",
   "version": "3.6.5"
  }
 },
 "nbformat": 4,
 "nbformat_minor": 2
}
