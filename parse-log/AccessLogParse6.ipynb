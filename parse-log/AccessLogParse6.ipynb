{
 "cells": [
  {
   "cell_type": "markdown",
   "metadata": {},
   "source": [
    "# Código\n",
    "\n",
    "### Carregando as principais bibliotecas"
   ]
  },
  {
   "cell_type": "code",
   "execution_count": 1,
   "metadata": {},
   "outputs": [],
   "source": [
    "from datetime import datetime\n",
    "import pytz\n",
    "import matplotlib.pyplot as plt\n",
    "%matplotlib inline\n",
    "import re\n",
    "import pandas as pd\n",
    "import numpy as np"
   ]
  },
  {
   "cell_type": "markdown",
   "metadata": {},
   "source": [
    "### Métodos para tratamento dos dados"
   ]
  },
  {
   "cell_type": "code",
   "execution_count": 2,
   "metadata": {},
   "outputs": [],
   "source": [
    "def convToInt(val):\n",
    "    result = re.sub('\\D+', '' , val)\n",
    "    if result:\n",
    "        return int(result)\n",
    "    else:\n",
    "        return 0\n",
    "\n",
    "def parse_datetime(x):\n",
    "    return datetime.strptime(x[1:-3], '%d/%b/%Y:%H:%M')\n",
    "    \n",
    "def tratarURI(val):\n",
    "    result = re.sub('\\?.+$', '' , val)\n",
    "    return result\n",
    "\n",
    "def convertbytetoMbyte(val):\n",
    "    return (val/2048)"
   ]
  },
  {
   "cell_type": "markdown",
   "metadata": {},
   "source": [
    "### Carregar o arquivo de Access log "
   ]
  },
  {
   "cell_type": "code",
   "execution_count": 3,
   "metadata": {},
   "outputs": [
    {
     "data": {
      "text/html": [
       "<div>\n",
       "<style scoped>\n",
       "    .dataframe tbody tr th:only-of-type {\n",
       "        vertical-align: middle;\n",
       "    }\n",
       "\n",
       "    .dataframe tbody tr th {\n",
       "        vertical-align: top;\n",
       "    }\n",
       "\n",
       "    .dataframe thead th {\n",
       "        text-align: right;\n",
       "    }\n",
       "</style>\n",
       "<table border=\"1\" class=\"dataframe\">\n",
       "  <thead>\n",
       "    <tr style=\"text-align: right;\">\n",
       "      <th></th>\n",
       "      <th>host</th>\n",
       "      <th>metodo</th>\n",
       "      <th>uri</th>\n",
       "      <th>status</th>\n",
       "      <th>bytes</th>\n",
       "      <th>Mbytes</th>\n",
       "    </tr>\n",
       "    <tr>\n",
       "      <th>datatime</th>\n",
       "      <th></th>\n",
       "      <th></th>\n",
       "      <th></th>\n",
       "      <th></th>\n",
       "      <th></th>\n",
       "      <th></th>\n",
       "    </tr>\n",
       "  </thead>\n",
       "  <tbody>\n",
       "    <tr>\n",
       "      <th>2018-11-29 08:18:00</th>\n",
       "      <td>10.3.19.90</td>\n",
       "      <td>\"GET</td>\n",
       "      <td>/mv/flex/AppRunner.html</td>\n",
       "      <td>302</td>\n",
       "      <td>0</td>\n",
       "      <td>0.000000</td>\n",
       "    </tr>\n",
       "    <tr>\n",
       "      <th>2018-11-29 08:18:00</th>\n",
       "      <td>10.1.235.70</td>\n",
       "      <td>\"GET</td>\n",
       "      <td>/mv/secure/receptor</td>\n",
       "      <td>200</td>\n",
       "      <td>0</td>\n",
       "      <td>0.000000</td>\n",
       "    </tr>\n",
       "    <tr>\n",
       "      <th>2018-11-29 08:18:00</th>\n",
       "      <td>10.1.235.70</td>\n",
       "      <td>\"GET</td>\n",
       "      <td>/mv/secure/receptor</td>\n",
       "      <td>200</td>\n",
       "      <td>98</td>\n",
       "      <td>0.047852</td>\n",
       "    </tr>\n",
       "    <tr>\n",
       "      <th>2018-11-29 08:18:00</th>\n",
       "      <td>10.3.19.90</td>\n",
       "      <td>\"GET</td>\n",
       "      <td>/mv/flex/AppRunner.html</td>\n",
       "      <td>302</td>\n",
       "      <td>0</td>\n",
       "      <td>0.000000</td>\n",
       "    </tr>\n",
       "    <tr>\n",
       "      <th>2018-11-29 08:18:00</th>\n",
       "      <td>10.3.19.90</td>\n",
       "      <td>\"GET</td>\n",
       "      <td>/mv/flex/AppRunner.html</td>\n",
       "      <td>200</td>\n",
       "      <td>19325</td>\n",
       "      <td>9.436035</td>\n",
       "    </tr>\n",
       "  </tbody>\n",
       "</table>\n",
       "</div>"
      ],
      "text/plain": [
       "                            host metodo                      uri  status  \\\n",
       "datatime                                                                   \n",
       "2018-11-29 08:18:00   10.3.19.90   \"GET  /mv/flex/AppRunner.html     302   \n",
       "2018-11-29 08:18:00  10.1.235.70   \"GET      /mv/secure/receptor     200   \n",
       "2018-11-29 08:18:00  10.1.235.70   \"GET      /mv/secure/receptor     200   \n",
       "2018-11-29 08:18:00   10.3.19.90   \"GET  /mv/flex/AppRunner.html     302   \n",
       "2018-11-29 08:18:00   10.3.19.90   \"GET  /mv/flex/AppRunner.html     200   \n",
       "\n",
       "                     bytes    Mbytes  \n",
       "datatime                              \n",
       "2018-11-29 08:18:00      0  0.000000  \n",
       "2018-11-29 08:18:00      0  0.000000  \n",
       "2018-11-29 08:18:00     98  0.047852  \n",
       "2018-11-29 08:18:00      0  0.000000  \n",
       "2018-11-29 08:18:00  19325  9.436035  "
      ]
     },
     "execution_count": 3,
     "metadata": {},
     "output_type": "execute_result"
    }
   ],
   "source": [
    "COLUMNS = ['host','datatime', 'metodo', 'uri', 'status', 'bytes']\n",
    "\n",
    "dadosAccesslog = pd.read_csv('access_log',\n",
    "                   sep='\\s+',\n",
    "                   engine='python', \n",
    "                   na_values='-', \n",
    "                   header=None ,\n",
    "                   usecols=[0, 3, 5, 6, 8, 9],\n",
    "                   names=COLUMNS\n",
    "                             ,\n",
    "                   converters={\n",
    "                            'status': convToInt,\n",
    "                            'bytes': convToInt,\n",
    "                            'datatime':parse_datetime}\n",
    "                   )\n",
    "dadosAccesslog['uri'] = [tratarURI(x) for x in dadosAccesslog['uri'].values]\n",
    "dadosAccesslog = dadosAccesslog.set_index('datatime')\n",
    "dadosAccesslog = dadosAccesslog.sort_values(by='datatime')\n",
    "dadosAccesslog['Mbytes'] = [convertbytetoMbyte(x) for x in dadosAccesslog['bytes'].values]\n",
    "dadosAccesslog.head()"
   ]
  },
  {
   "cell_type": "markdown",
   "metadata": {},
   "source": [
    "# Análise\n",
    "\n",
    "### Tráfego de Mbytes por hora\n",
    "\n",
    "O objetivo do gráfico abaixo é demonstrar o tráfego de byte médio e máximo por hora, registrado no access log do Apache"
   ]
  },
  {
   "cell_type": "code",
   "execution_count": 4,
   "metadata": {},
   "outputs": [
    {
     "data": {
      "text/plain": [
       "<matplotlib.axes._subplots.AxesSubplot at 0x1cf95fafd68>"
      ]
     },
     "execution_count": 4,
     "metadata": {},
     "output_type": "execute_result"
    },
    {
     "data": {
      "image/png": "[encoded data removed]",
      "text/plain": [
       "<Figure size 1080x360 with 1 Axes>"
      ]
     },
     "metadata": {
      "needs_background": "light"
     },
     "output_type": "display_data"
    }
   ],
   "source": [
    "grb = dadosAccesslog.groupby([dadosAccesslog.index.hour]).agg({    \n",
    "    'Mbytes': [np.mean, np.max]\n",
    "})\n",
    "\n",
    "\n",
    "grb.plot.area(figsize=(15, 5))"
   ]
  },
  {
   "cell_type": "markdown",
   "metadata": {},
   "source": [
    "### URI com maiores Tráfigos Médios de bytes\n",
    "\n",
    "O objetivo de gráfico abaixo e apresentar os maiores 'uri' que trafegam mais bytes"
   ]
  },
  {
   "cell_type": "code",
   "execution_count": 5,
   "metadata": {},
   "outputs": [
    {
     "data": {
      "image/png": "[encoded data removed]",
      "text/plain": [
       "<Figure size 432x288 with 1 Axes>"
      ]
     },
     "metadata": {
      "needs_background": "light"
     },
     "output_type": "display_data"
    }
   ],
   "source": [
    "grbUriByte = dadosAccesslog.groupby(dadosAccesslog['uri']).agg({    \n",
    "    'Mbytes': [np.mean]\n",
    "})\n",
    "grbUriByte = grbUriByte.sort_values(by=[('Mbytes','mean')], ascending=False)\n",
    "grbUriByte.head(10).plot.barh(stacked=True, colormap='copper');"
   ]
  },
  {
   "cell_type": "markdown",
   "metadata": {},
   "source": [
    "E entrem os maiores 'URI', quais são as frências de 'MBytes' que eles trafegam"
   ]
  },
  {
   "cell_type": "code",
   "execution_count": 6,
   "metadata": {},
   "outputs": [
    {
     "name": "stdout",
     "output_type": "stream",
     "text": [
      "/mv/flex/AppRunner.swf\n",
      "            Mbytes\n",
      "count    46.000000\n",
      "mean   1542.629968\n",
      "std     693.392314\n",
      "min       7.992188\n",
      "25%    1355.897705\n",
      "50%    1923.012695\n",
      "75%    1923.012695\n",
      "max    1923.012695\n",
      "/mv/flex/com/mvsistemas/mv2000/fncp/forms/MConRec/views/ViewWinPrincipal.swf\n",
      "           Mbytes\n",
      "count    2.000000\n",
      "mean   817.645996\n",
      "std      0.000000\n",
      "min    817.645996\n",
      "25%    817.645996\n",
      "50%    817.645996\n",
      "75%    817.645996\n",
      "max    817.645996\n",
      "/mv/flex/PDFRenderer-min7u45.jar\n",
      "           Mbytes\n",
      "count    4.000000\n",
      "mean   812.871094\n",
      "std      0.000000\n",
      "min    812.871094\n",
      "25%    812.871094\n",
      "50%    812.871094\n",
      "75%    812.871094\n",
      "max    812.871094\n",
      "/mv/flex/com/mvsistemas/mv2000/fnfi/forms/ORecConv/views/ViewWinPrincipal.swf\n",
      "           Mbytes\n",
      "count    2.000000\n",
      "mean   660.942383\n",
      "std      0.000000\n",
      "min    660.942383\n",
      "25%    660.942383\n",
      "50%    660.942383\n",
      "75%    660.942383\n",
      "max    660.942383\n",
      "/mv/flex/mv-bema-printer-min7u45.jar\n",
      "           Mbytes\n",
      "count    4.000000\n",
      "mean   517.366699\n",
      "std      0.000000\n",
      "min    517.366699\n",
      "25%    517.366699\n",
      "50%    517.366699\n",
      "75%    517.366699\n",
      "max    517.366699\n",
      "/mv/flex/log4j-1.2.15-min7u45.jar\n",
      "          Mbytes\n",
      "count    4.00000\n",
      "mean   202.54834\n",
      "std      0.00000\n",
      "min    202.54834\n",
      "25%    202.54834\n",
      "50%    202.54834\n",
      "75%    202.54834\n",
      "max    202.54834\n",
      "/mv/webjars/las-soul-template/2.0.2/bundle.js\n",
      "           Mbytes\n",
      "count    8.000000\n",
      "mean   102.038574\n",
      "std      0.000000\n",
      "min    102.038574\n",
      "25%    102.038574\n",
      "50%    102.038574\n",
      "75%    102.038574\n",
      "max    102.038574\n",
      "/mv/flex/com/mvsistemas/mv2000/fncp/forms/ORec/views/ViewWinPrincipal.swf\n",
      "         Mbytes\n",
      "count   2.00000\n",
      "mean   91.20166\n",
      "std     0.00000\n",
      "min    91.20166\n",
      "25%    91.20166\n",
      "50%    91.20166\n",
      "75%    91.20166\n",
      "max    91.20166\n",
      "/mv/flex/com/mvsistemas/mv2000/admpac/forms/CadPac/views/ViewWinPrincipal.swf\n",
      "         Mbytes\n",
      "count   3.00000\n",
      "mean   70.66748\n",
      "std     0.00000\n",
      "min    70.66748\n",
      "25%    70.66748\n",
      "50%    70.66748\n",
      "75%    70.66748\n",
      "max    70.66748\n",
      "/mv/webjars/las-update/2.0.6/bundle.js\n",
      "          Mbytes\n",
      "count   8.000000\n",
      "mean   61.562988\n",
      "std     0.000000\n",
      "min    61.562988\n",
      "25%    61.562988\n",
      "50%    61.562988\n",
      "75%    61.562988\n",
      "max    61.562988\n"
     ]
    }
   ],
   "source": [
    "dffreq = dadosAccesslog.loc[(dadosAccesslog['uri'].isin(grbUriByte.head(10).index)) ]\n",
    "\n",
    "arrayFreq = []\n",
    "for x in grbUriByte.head(10).index:\n",
    "    print(x)\n",
    "    print(dffreq.loc[dffreq['uri']==x, ['uri', 'Mbytes']].describe())\n"
   ]
  },
  {
   "cell_type": "code",
   "execution_count": 7,
   "metadata": {},
   "outputs": [
    {
     "data": {
      "text/html": [
       "<div>\n",
       "<style scoped>\n",
       "    .dataframe tbody tr th:only-of-type {\n",
       "        vertical-align: middle;\n",
       "    }\n",
       "\n",
       "    .dataframe tbody tr th {\n",
       "        vertical-align: top;\n",
       "    }\n",
       "\n",
       "    .dataframe thead th {\n",
       "        text-align: right;\n",
       "    }\n",
       "</style>\n",
       "<table border=\"1\" class=\"dataframe\">\n",
       "  <thead>\n",
       "    <tr style=\"text-align: right;\">\n",
       "      <th></th>\n",
       "      <th>Descricao</th>\n",
       "    </tr>\n",
       "    <tr>\n",
       "      <th>URI</th>\n",
       "      <th></th>\n",
       "    </tr>\n",
       "  </thead>\n",
       "  <tbody>\n",
       "    <tr>\n",
       "      <th>/mv/flex/AppRunner.swf</th>\n",
       "      <td>Mbytes\n",
       "count    46.000000\n",
       "mean   1...</td>\n",
       "    </tr>\n",
       "    <tr>\n",
       "      <th>/mv/flex/com/mvsistemas/mv2000/fncp/forms/MConRec/views/ViewWinPrincipal.swf</th>\n",
       "      <td>Mbytes\n",
       "count    2.000000\n",
       "mean   817...</td>\n",
       "    </tr>\n",
       "    <tr>\n",
       "      <th>/mv/flex/PDFRenderer-min7u45.jar</th>\n",
       "      <td>Mbytes\n",
       "count    4.000000\n",
       "mean   812...</td>\n",
       "    </tr>\n",
       "    <tr>\n",
       "      <th>/mv/flex/com/mvsistemas/mv2000/fnfi/forms/ORecConv/views/ViewWinPrincipal.swf</th>\n",
       "      <td>Mbytes\n",
       "count    2.000000\n",
       "mean   660...</td>\n",
       "    </tr>\n",
       "    <tr>\n",
       "      <th>/mv/flex/mv-bema-printer-min7u45.jar</th>\n",
       "      <td>Mbytes\n",
       "count    4.000000\n",
       "mean   517...</td>\n",
       "    </tr>\n",
       "    <tr>\n",
       "      <th>/mv/flex/log4j-1.2.15-min7u45.jar</th>\n",
       "      <td>Mbytes\n",
       "count    4.00000\n",
       "mean   202.5...</td>\n",
       "    </tr>\n",
       "    <tr>\n",
       "      <th>/mv/webjars/las-soul-template/2.0.2/bundle.js</th>\n",
       "      <td>Mbytes\n",
       "count    8.000000\n",
       "mean   102...</td>\n",
       "    </tr>\n",
       "    <tr>\n",
       "      <th>/mv/flex/com/mvsistemas/mv2000/fncp/forms/ORec/views/ViewWinPrincipal.swf</th>\n",
       "      <td>Mbytes\n",
       "count   2.00000\n",
       "mean   91.2016...</td>\n",
       "    </tr>\n",
       "    <tr>\n",
       "      <th>/mv/flex/com/mvsistemas/mv2000/admpac/forms/CadPac/views/ViewWinPrincipal.swf</th>\n",
       "      <td>Mbytes\n",
       "count   3.00000\n",
       "mean   70.6674...</td>\n",
       "    </tr>\n",
       "    <tr>\n",
       "      <th>/mv/webjars/las-update/2.0.6/bundle.js</th>\n",
       "      <td>Mbytes\n",
       "count   8.000000\n",
       "mean   61.56...</td>\n",
       "    </tr>\n",
       "  </tbody>\n",
       "</table>\n",
       "</div>"
      ],
      "text/plain": [
       "                                                                                            Descricao\n",
       "URI                                                                                                  \n",
       "/mv/flex/AppRunner.swf                                          Mbytes\n",
       "count    46.000000\n",
       "mean   1...\n",
       "/mv/flex/com/mvsistemas/mv2000/fncp/forms/MConR...             Mbytes\n",
       "count    2.000000\n",
       "mean   817...\n",
       "/mv/flex/PDFRenderer-min7u45.jar                               Mbytes\n",
       "count    4.000000\n",
       "mean   812...\n",
       "/mv/flex/com/mvsistemas/mv2000/fnfi/forms/ORecC...             Mbytes\n",
       "count    2.000000\n",
       "mean   660...\n",
       "/mv/flex/mv-bema-printer-min7u45.jar                           Mbytes\n",
       "count    4.000000\n",
       "mean   517...\n",
       "/mv/flex/log4j-1.2.15-min7u45.jar                             Mbytes\n",
       "count    4.00000\n",
       "mean   202.5...\n",
       "/mv/webjars/las-soul-template/2.0.2/bundle.js                  Mbytes\n",
       "count    8.000000\n",
       "mean   102...\n",
       "/mv/flex/com/mvsistemas/mv2000/fncp/forms/ORec/...           Mbytes\n",
       "count   2.00000\n",
       "mean   91.2016...\n",
       "/mv/flex/com/mvsistemas/mv2000/admpac/forms/Cad...           Mbytes\n",
       "count   3.00000\n",
       "mean   70.6674...\n",
       "/mv/webjars/las-update/2.0.6/bundle.js                        Mbytes\n",
       "count   8.000000\n",
       "mean   61.56..."
      ]
     },
     "execution_count": 7,
     "metadata": {},
     "output_type": "execute_result"
    }
   ],
   "source": [
    "arrayFreq = []\n",
    "for x in grbUriByte.head(10).index:\n",
    "    arrayFreq.append({\n",
    "        'URI' : x,\n",
    "        'Descricao' : dffreq.loc[dffreq['uri']==x, ['uri', 'Mbytes']].describe()\n",
    "    })\n",
    "\n",
    "arrayFreq = pd.DataFrame(data=arrayFreq)\n",
    "arrayFreq = arrayFreq.set_index('URI')\n",
    "arrayFreq"
   ]
  },
  {
   "cell_type": "code",
   "execution_count": 8,
   "metadata": {},
   "outputs": [
    {
     "data": {
      "text/html": [
       "<script>jQuery(function() {if (jQuery(\"body.notebook_app\").length == 0) { jQuery(\".input_area, .output_stderr\").toggle(); jQuery(\".prompt\").toggle();}});</script>"
      ]
     },
     "metadata": {},
     "output_type": "display_data"
    },
    {
     "data": {
      "text/html": [
       "<button onclick=\"jQuery('.input_area').toggle(); jQuery('.prompt').toggle();\">Click in rendered .html output only, toggles the code</button>"
      ]
     },
     "metadata": {},
     "output_type": "display_data"
    }
   ],
   "source": [
    "\n",
    "# IPython \n",
    "import IPython\n",
    "from IPython.core.display import HTML\n",
    "from IPython.display import Image\n",
    "\n",
    "\n",
    "\n",
    "#                 Run (once) to allow nice html output as report (optional) \n",
    "\n",
    "\n",
    "\"\"\"\n",
    "Hide code cells in an IPython notebook or exported HTML using javascript. \n",
    "Taken from Max Masnick's answer in \n",
    "http://stackoverflow.com/questions/27934885/how-to-hide-code-from-cells-in-ipython-notebook-visualized-with-nbviewer.\n",
    "\"\"\"\n",
    "\n",
    "# Example: di.display_html('<h3>%s:</h3>' % str, raw=True)\n",
    "import IPython.core.display as di\n",
    "\n",
    "# This line will hide code by default when the notebook is exported as HTML\n",
    "di.display_html(\n",
    "    '<script>jQuery(function() {if (jQuery(\"body.notebook_app\").length == 0) { jQuery(\".input_area, .output_stderr\").toggle(); jQuery(\".prompt\").toggle();}});</script>', raw=True)\n",
    "\n",
    "CSS = \"\"\".input_area .output_stderr {height: 2.0em; overflow: hidden}\"\"\"  # changes input_subarea width to 1 visible line\n",
    "HTML('<style>{}</style>'.format(CSS))\n",
    "\n",
    "# This line will add a button to toggle visibility of code blocks, for use with the HTML export version\n",
    "di.display_html('''<button onclick=\"jQuery('.input_area').toggle(); jQuery('.prompt').toggle();\">Click in rendered .html output only, toggles the code</button>''', raw=True)\n",
    "\n"
   ]
  },
  {
   "cell_type": "code",
   "execution_count": null,
   "metadata": {},
   "outputs": [],
   "source": []
  }
 ],
 "metadata": {
  "kernelspec": {
   "display_name": "Python 3",
   "language": "python",
   "name": "python3"
  },
  "language_info": {
   "codemirror_mode": {
    "name": "ipython",
    "version": 3
   },
   "file_extension": ".py",
   "mimetype": "text/x-python",
   "name": "python",
   "nbconvert_exporter": "python",
   "pygments_lexer": "ipython3",
   "version": "3.6.5"
  }
 },
 "nbformat": 4,
 "nbformat_minor": 2
}
