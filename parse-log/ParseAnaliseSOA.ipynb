{
 "cells": [
  {
   "cell_type": "code",
   "execution_count": 1,
   "metadata": {
    "collapsed": true
   },
   "outputs": [],
   "source": [
    "import os\n",
    "import re\n",
    "import glob\n",
    "import sys\n",
    "from datetime import datetime\n",
    "import pandas as pd\n",
    "import numpy as np\n",
    "\n",
    "PATH = ''\n",
    "FILENAMEWRITE = 'resultado.csv'\n",
    "LOGFILE= '*.out'\n",
    "SEPARADOR=';'\n",
    "PADRAO_ = '<.+<Error> <oracle.soa.bpel.engine.bpel>'\n",
    "datahora=''\n",
    "cabecalho = 0\n",
    "\n",
    "def carregarEscrita():\n",
    "        global fileWrite\n",
    "        file = PATH +'\\\\'+FILENAMEWRITE\n",
    "        fileWrite = open(file, \"w\")\n",
    "\n",
    "def listarArquivos():\n",
    "        global filesRead\n",
    "        filesRead = glob.glob(LOGFILE)\n",
    "\n",
    "def carregarArquivo(p_fileNameRead):\n",
    "        global fileRead\n",
    "        fread = PATH +'\\\\'+ p_fileNameRead\n",
    "        fileRead = open(fread, \"r\", encoding='utf-8')\n",
    "                "
   ]
  },
  {
   "cell_type": "code",
   "execution_count": 78,
   "metadata": {
    "collapsed": true
   },
   "outputs": [],
   "source": [
    "dados = {'datahora': [],\n",
    "        'ocorrencia':[]}\n",
    "def escreverRegistros(pRegistro):\n",
    "        valor = re.findall('\\w\\w\\w\\s\\d\\d\\W\\s\\d\\d\\d\\d\\s\\d+\\W\\d\\d\\W\\d\\d', pRegistro)\n",
    "        for x in valor:\n",
    "                dt = datetime.strptime(x, '%b %d, %Y %H:%M:%S')\n",
    "                dados['datahora'].append(dt)\n",
    "                dados['ocorrencia'].append(1)\n",
    "\n",
    "               "
   ]
  },
  {
   "cell_type": "code",
   "execution_count": 79,
   "metadata": {
    "collapsed": true
   },
   "outputs": [],
   "source": [
    "def encontrarPadrao(pValor):\n",
    " \n",
    "        valor = re.findall(PADRAO_, pValor)\n",
    "        for x in valor:\n",
    "                escreverRegistros(x)\n",
    "\n",
    "def parseArquivos():\n",
    "        for line in fileRead:\n",
    "                encontrarPadrao(line)               \n",
    "\n",
    "def closeEscrita():\n",
    "        fileWrite.close() "
   ]
  },
  {
   "cell_type": "code",
   "execution_count": 80,
   "metadata": {},
   "outputs": [
    {
     "name": "stdout",
     "output_type": "stream",
     "text": [
      "SOA_MECSOL_PROD_Srv09.out\n"
     ]
    }
   ],
   "source": [
    "PATH='C:\\\\Users\\\\Inmetrics\\\\Documents\\\\vivo\\\\Help'\n",
    "carregarEscrita()\n",
    "listarArquivos()\n",
    "for fileLog in filesRead:\n",
    "        print(fileLog)\n",
    "        carregarArquivo(fileLog)\n",
    "        parseArquivos()\n",
    "\n",
    "\n"
   ]
  },
  {
   "cell_type": "code",
   "execution_count": 2,
   "metadata": {},
   "outputs": [
    {
     "ename": "NameError",
     "evalue": "name 'dados' is not defined",
     "output_type": "error",
     "traceback": [
      "\u001b[1;31m---------------------------------------------------------------------------\u001b[0m",
      "\u001b[1;31mNameError\u001b[0m                                 Traceback (most recent call last)",
      "\u001b[1;32m<ipython-input-2-80399c772e44>\u001b[0m in \u001b[0;36m<module>\u001b[1;34m()\u001b[0m\n\u001b[1;32m----> 1\u001b[1;33m \u001b[0mdf\u001b[0m \u001b[1;33m=\u001b[0m \u001b[0mpd\u001b[0m\u001b[1;33m.\u001b[0m\u001b[0mDataFrame\u001b[0m\u001b[1;33m(\u001b[0m\u001b[0mdados\u001b[0m\u001b[1;33m,\u001b[0m \u001b[0mcolumns\u001b[0m\u001b[1;33m=\u001b[0m\u001b[1;33m[\u001b[0m\u001b[1;34m'datahora'\u001b[0m\u001b[1;33m,\u001b[0m\u001b[1;34m'ocorrencia'\u001b[0m\u001b[1;33m,\u001b[0m \u001b[1;34m'Minuto'\u001b[0m\u001b[1;33m]\u001b[0m\u001b[1;33m)\u001b[0m\u001b[1;33m\u001b[0m\u001b[0m\n\u001b[0m\u001b[0;32m      2\u001b[0m \u001b[1;33m\u001b[0m\u001b[0m\n\u001b[0;32m      3\u001b[0m \u001b[0mdf\u001b[0m\u001b[1;33m[\u001b[0m\u001b[1;34m'datahora'\u001b[0m\u001b[1;33m]\u001b[0m\u001b[1;33m.\u001b[0m\u001b[0mdescribe\u001b[0m\u001b[1;33m(\u001b[0m\u001b[1;33m)\u001b[0m\u001b[1;33m\u001b[0m\u001b[0m\n\u001b[0;32m      4\u001b[0m \u001b[0mdf\u001b[0m\u001b[1;33m[\u001b[0m\u001b[1;34m'Minuto'\u001b[0m\u001b[1;33m]\u001b[0m \u001b[1;33m=\u001b[0m \u001b[0mdf\u001b[0m\u001b[1;33m[\u001b[0m\u001b[1;34m'datahora'\u001b[0m\u001b[1;33m]\u001b[0m\u001b[1;33m.\u001b[0m\u001b[0mdt\u001b[0m\u001b[1;33m.\u001b[0m\u001b[0mto_period\u001b[0m\u001b[1;33m(\u001b[0m\u001b[1;34m'min'\u001b[0m\u001b[1;33m)\u001b[0m\u001b[1;33m\u001b[0m\u001b[0m\n\u001b[0;32m      5\u001b[0m \u001b[0mdf2\u001b[0m \u001b[1;33m=\u001b[0m \u001b[0mdf\u001b[0m\u001b[1;33m.\u001b[0m\u001b[0mgroupby\u001b[0m\u001b[1;33m(\u001b[0m\u001b[0mby\u001b[0m\u001b[1;33m=\u001b[0m\u001b[1;33m[\u001b[0m\u001b[1;34m'datahora'\u001b[0m\u001b[1;33m,\u001b[0m \u001b[1;34m'Minuto'\u001b[0m\u001b[1;33m]\u001b[0m\u001b[1;33m)\u001b[0m\u001b[1;33m[\u001b[0m\u001b[1;34m'ocorrencia'\u001b[0m\u001b[1;33m]\u001b[0m\u001b[1;33m.\u001b[0m\u001b[0msum\u001b[0m\u001b[1;33m(\u001b[0m\u001b[1;33m)\u001b[0m\u001b[1;33m\u001b[0m\u001b[0m\n",
      "\u001b[1;31mNameError\u001b[0m: name 'dados' is not defined"
     ]
    }
   ],
   "source": [
    "df = pd.DataFrame(dados, columns=['datahora','ocorrencia', 'Minuto'])\n",
    "\n",
    "df['datahora'].describe()\n",
    "df['Minuto'] = df['datahora'].dt.to_period('min')\n",
    "df2 = df.groupby(by=['datahora', 'Minuto'])['ocorrencia'].sum()\n",
    "\n",
    "escrito = df2.to_string\n",
    "\n",
    "fileWrite.write(str(escrito))\n",
    "\n",
    "closeEscrita()\n",
    "df2.describe()"
   ]
  },
  {
   "cell_type": "code",
   "execution_count": null,
   "metadata": {
    "collapsed": true
   },
   "outputs": [],
   "source": []
  }
 ],
 "metadata": {
  "kernelspec": {
   "display_name": "Python 3",
   "language": "python",
   "name": "python3"
  },
  "language_info": {
   "codemirror_mode": {
    "name": "ipython",
    "version": 3
   },
   "file_extension": ".py",
   "mimetype": "text/x-python",
   "name": "python",
   "nbconvert_exporter": "python",
   "pygments_lexer": "ipython3",
   "version": "3.6.5"
  }
 },
 "nbformat": 4,
 "nbformat_minor": 2
}
