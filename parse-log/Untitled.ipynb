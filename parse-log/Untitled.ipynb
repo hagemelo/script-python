{
 "cells": [
  {
   "cell_type": "code",
   "execution_count": 50,
   "metadata": {
    "collapsed": true
   },
   "outputs": [],
   "source": [
    "import pandas as pd\n",
    "import numpy as np\n",
    "import re\n",
    "import string as s\n",
    "from datetime import datetime\n",
    "\n",
    "PATH = 'C:\\\\Temp\\\\'\n",
    "FILE_NAME_EXCEL = 'teste.xlsx'\n",
    "\n",
    "def parse_datetime(x):\n",
    "    dt = datetime.strptime(x, '%Y/%m/%d %H:%M:%S')\n",
    "    return dt\n",
    "\n",
    "def convToInt(val):\n",
    "    return int(val)\n",
    "\n",
    "def percentile(n):\n",
    "    def _percentile(x):\n",
    "        return np.percentile(x, n)\n",
    "    _percentile.__name__ = '{}-th percentile'.format(n)\n",
    "    return _percentile\n"
   ]
  },
  {
   "cell_type": "code",
   "execution_count": 64,
   "metadata": {},
   "outputs": [],
   "source": [
    "jmeter_df = pd.read_csv('\\\\teste.jtl', \n",
    "                    delimiter=';', \n",
    "                    engine='python',\n",
    "                    na_values='-', \n",
    "                   header=None,\n",
    "                   names=['timeStamp','elapsed','label','responseCode','responseMessage','threadName','dataType',\n",
    "                          'success','failureMessage','bytes','sentBytes',\n",
    "                          'grpThreads','allThreads','Latency','IdleTime','Connect'],\n",
    "                converters={'timeStamp': parse_datetime,\n",
    "                           'elapsed': convToInt,\n",
    "                           'bytes': convToInt,\n",
    "                           'sentBytes': convToInt,\n",
    "                           'grpThreads': convToInt,\n",
    "                           'allThreads': convToInt,\n",
    "                           'Latency': convToInt,\n",
    "                           'IdleTime': convToInt,\n",
    "                           'Connect': convToInt})\n",
    "jmeter_df.set_index(['timeStamp'], inplace=True) "
   ]
  },
  {
   "cell_type": "code",
   "execution_count": null,
   "metadata": {},
   "outputs": [],
   "source": []
  },
  {
   "cell_type": "code",
   "execution_count": 73,
   "metadata": {},
   "outputs": [
    {
     "ename": "NotImplementedError",
     "evalue": "Indexing a MultiIndex with a DataFrame key is not implemented",
     "output_type": "error",
     "traceback": [
      "\u001b[1;31m---------------------------------------------------------------------------\u001b[0m",
      "\u001b[1;31mNotImplementedError\u001b[0m                       Traceback (most recent call last)",
      "\u001b[1;32m<ipython-input-73-d81d886652ac>\u001b[0m in \u001b[0;36m<module>\u001b[1;34m()\u001b[0m\n\u001b[0;32m      6\u001b[0m })\n\u001b[0;32m      7\u001b[0m \u001b[1;33m\u001b[0m\u001b[0m\n\u001b[1;32m----> 8\u001b[1;33m \u001b[0mteste\u001b[0m \u001b[1;33m=\u001b[0m \u001b[0mgr_jmeter\u001b[0m\u001b[1;33m.\u001b[0m\u001b[0mloc\u001b[0m\u001b[1;33m[\u001b[0m\u001b[0mgr_jmeter\u001b[0m\u001b[1;33m[\u001b[0m\u001b[1;34m'elapsed'\u001b[0m\u001b[1;33m]\u001b[0m \u001b[1;33m>=\u001b[0m \u001b[1;36m2\u001b[0m\u001b[1;33m]\u001b[0m\u001b[1;33m\u001b[0m\u001b[0m\n\u001b[0m\u001b[0;32m      9\u001b[0m \u001b[1;33m\u001b[0m\u001b[0m\n\u001b[0;32m     10\u001b[0m \u001b[0mteste\u001b[0m\u001b[1;33m.\u001b[0m\u001b[0mhead\u001b[0m\u001b[1;33m(\u001b[0m\u001b[1;33m)\u001b[0m\u001b[1;33m\u001b[0m\u001b[0m\n",
      "\u001b[1;32mC:\\Users\\Inmetrics\\Anaconda3\\lib\\site-packages\\pandas\\core\\indexing.py\u001b[0m in \u001b[0;36m__getitem__\u001b[1;34m(self, key)\u001b[0m\n\u001b[0;32m   1326\u001b[0m         \u001b[1;32melse\u001b[0m\u001b[1;33m:\u001b[0m\u001b[1;33m\u001b[0m\u001b[0m\n\u001b[0;32m   1327\u001b[0m             \u001b[0mkey\u001b[0m \u001b[1;33m=\u001b[0m \u001b[0mcom\u001b[0m\u001b[1;33m.\u001b[0m\u001b[0m_apply_if_callable\u001b[0m\u001b[1;33m(\u001b[0m\u001b[0mkey\u001b[0m\u001b[1;33m,\u001b[0m \u001b[0mself\u001b[0m\u001b[1;33m.\u001b[0m\u001b[0mobj\u001b[0m\u001b[1;33m)\u001b[0m\u001b[1;33m\u001b[0m\u001b[0m\n\u001b[1;32m-> 1328\u001b[1;33m             \u001b[1;32mreturn\u001b[0m \u001b[0mself\u001b[0m\u001b[1;33m.\u001b[0m\u001b[0m_getitem_axis\u001b[0m\u001b[1;33m(\u001b[0m\u001b[0mkey\u001b[0m\u001b[1;33m,\u001b[0m \u001b[0maxis\u001b[0m\u001b[1;33m=\u001b[0m\u001b[1;36m0\u001b[0m\u001b[1;33m)\u001b[0m\u001b[1;33m\u001b[0m\u001b[0m\n\u001b[0m\u001b[0;32m   1329\u001b[0m \u001b[1;33m\u001b[0m\u001b[0m\n\u001b[0;32m   1330\u001b[0m     \u001b[1;32mdef\u001b[0m \u001b[0m_is_scalar_access\u001b[0m\u001b[1;33m(\u001b[0m\u001b[0mself\u001b[0m\u001b[1;33m,\u001b[0m \u001b[0mkey\u001b[0m\u001b[1;33m)\u001b[0m\u001b[1;33m:\u001b[0m\u001b[1;33m\u001b[0m\u001b[0m\n",
      "\u001b[1;32mC:\\Users\\Inmetrics\\Anaconda3\\lib\\site-packages\\pandas\\core\\indexing.py\u001b[0m in \u001b[0;36m_getitem_axis\u001b[1;34m(self, key, axis)\u001b[0m\n\u001b[0;32m   1521\u001b[0m                 \u001b[1;32melif\u001b[0m \u001b[0misinstance\u001b[0m\u001b[1;33m(\u001b[0m\u001b[0mkey\u001b[0m\u001b[1;33m,\u001b[0m \u001b[0mABCDataFrame\u001b[0m\u001b[1;33m)\u001b[0m\u001b[1;33m:\u001b[0m\u001b[1;33m\u001b[0m\u001b[0m\n\u001b[0;32m   1522\u001b[0m                     \u001b[1;31m# GH 15438\u001b[0m\u001b[1;33m\u001b[0m\u001b[1;33m\u001b[0m\u001b[0m\n\u001b[1;32m-> 1523\u001b[1;33m                     raise NotImplementedError(\"Indexing a MultiIndex with a \"\n\u001b[0m\u001b[0;32m   1524\u001b[0m                                               \u001b[1;34m\"DataFrame key is not \"\u001b[0m\u001b[1;33m\u001b[0m\u001b[0m\n\u001b[0;32m   1525\u001b[0m                                               \"implemented\")\n",
      "\u001b[1;31mNotImplementedError\u001b[0m: Indexing a MultiIndex with a DataFrame key is not implemented"
     ]
    }
   ],
   "source": [
    "\n",
    "gr_jmeter = jmeter_df.groupby(['timeStamp', 'label']).agg({\n",
    "    \n",
    "    'label': ['count'],\n",
    "    'elapsed': ['max', 'mean',  percentile(90)]\n",
    "})\n",
    "\n",
    "teste = gr_jmeter.loc[gr_jmeter['elapsed'] >= 2]\n",
    "\n",
    "teste.head()"
   ]
  },
  {
   "cell_type": "code",
   "execution_count": null,
   "metadata": {
    "collapsed": true
   },
   "outputs": [],
   "source": []
  },
  {
   "cell_type": "code",
   "execution_count": 53,
   "metadata": {
    "collapsed": true
   },
   "outputs": [],
   "source": [
    "writer = pd.ExcelWriter(PATH + FILE_NAME_EXCEL, engine='xlsxwriter')\n",
    "gr_jmeter.to_excel(writer, sheet_name='Plan1')\n",
    "writer.save()"
   ]
  }
 ],
 "metadata": {
  "kernelspec": {
   "display_name": "Python 3",
   "language": "python",
   "name": "python3"
  },
  "language_info": {
   "codemirror_mode": {
    "name": "ipython",
    "version": 3
   },
   "file_extension": ".py",
   "mimetype": "text/x-python",
   "name": "python",
   "nbconvert_exporter": "python",
   "pygments_lexer": "ipython3",
   "version": "3.6.5"
  }
 },
 "nbformat": 4,
 "nbformat_minor": 2
}
