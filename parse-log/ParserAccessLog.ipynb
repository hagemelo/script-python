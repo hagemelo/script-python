{
 "cells": [
  {
   "cell_type": "code",
   "execution_count": 140,
   "metadata": {
    "collapsed": true
   },
   "outputs": [],
   "source": [
    "from datetime import datetime\n",
    "import pytz\n",
    "import matplotlib.pyplot as plt\n",
    "%matplotlib inline\n",
    "import re\n",
    "import pandas as pd\n",
    "\n",
    "PATH = 'C:\\\\Users\\\\Inmetrics\\\\Documents\\\\vivo\\\\Help\\\\jvms\\\\JVMs\\\\Srv02\\\\'\n",
    "FILE_NAME_EXCEL = 'Srv01_Parse.xlsx'"
   ]
  },
  {
   "cell_type": "code",
   "execution_count": 141,
   "metadata": {
    "collapsed": true
   },
   "outputs": [],
   "source": [
    "data = pd.read_csv(PATH + 'access.log',\n",
    "                   sep='\\s',\n",
    "                   engine='python', \n",
    "                   na_values='-', \n",
    "                   header=None,\n",
    "                   names=['cip', 'date', 'time', 'csmethod', 'csuri' ,'status' ,'bytes', 'timetaken'],\n",
    "                   )"
   ]
  },
  {
   "cell_type": "code",
   "execution_count": 142,
   "metadata": {},
   "outputs": [
    {
     "data": {
      "text/html": [
       "<div>\n",
       "<style>\n",
       "    .dataframe thead tr:only-child th {\n",
       "        text-align: right;\n",
       "    }\n",
       "\n",
       "    .dataframe thead th {\n",
       "        text-align: left;\n",
       "    }\n",
       "\n",
       "    .dataframe tbody tr th {\n",
       "        vertical-align: top;\n",
       "    }\n",
       "</style>\n",
       "<table border=\"1\" class=\"dataframe\">\n",
       "  <thead>\n",
       "    <tr style=\"text-align: right;\">\n",
       "      <th></th>\n",
       "      <th>URI</th>\n",
       "      <th>Media TameTaken</th>\n",
       "      <th>Qtd</th>\n",
       "      <th>Hist</th>\n",
       "    </tr>\n",
       "  </thead>\n",
       "  <tbody>\n",
       "    <tr>\n",
       "      <th>1984</th>\n",
       "      <td>/check-ping-web/index.jsp</td>\n",
       "      <td>0.000851</td>\n",
       "      <td>216708</td>\n",
       "      <td>0s - 0,5s</td>\n",
       "    </tr>\n",
       "    <tr>\n",
       "      <th>4899</th>\n",
       "      <td>/soa-infra/services/SincronismoNotificacaoVivo...</td>\n",
       "      <td>0.353216</td>\n",
       "      <td>29005</td>\n",
       "      <td>0s - 0,5s</td>\n",
       "    </tr>\n",
       "    <tr>\n",
       "      <th>4881</th>\n",
       "      <td>/soa-infra/services/BillInvoiceManagement/Crea...</td>\n",
       "      <td>0.213196</td>\n",
       "      <td>7410</td>\n",
       "      <td>0s - 0,5s</td>\n",
       "    </tr>\n",
       "    <tr>\n",
       "      <th>613</th>\n",
       "      <td>/atualizarDadosProcesso/AtualizarDadosProcesso...</td>\n",
       "      <td>0.089595</td>\n",
       "      <td>4680</td>\n",
       "      <td>0s - 0,5s</td>\n",
       "    </tr>\n",
       "    <tr>\n",
       "      <th>4894</th>\n",
       "      <td>/soa-infra/services/ServiceConfigurationActiva...</td>\n",
       "      <td>0.214476</td>\n",
       "      <td>4228</td>\n",
       "      <td>0s - 0,5s</td>\n",
       "    </tr>\n",
       "  </tbody>\n",
       "</table>\n",
       "</div>"
      ],
      "text/plain": [
       "                                                    URI  Media TameTaken  \\\n",
       "1984                          /check-ping-web/index.jsp         0.000851   \n",
       "4899  /soa-infra/services/SincronismoNotificacaoVivo...         0.353216   \n",
       "4881  /soa-infra/services/BillInvoiceManagement/Crea...         0.213196   \n",
       "613   /atualizarDadosProcesso/AtualizarDadosProcesso...         0.089595   \n",
       "4894  /soa-infra/services/ServiceConfigurationActiva...         0.214476   \n",
       "\n",
       "         Qtd       Hist  \n",
       "1984  216708  0s - 0,5s  \n",
       "4899   29005  0s - 0,5s  \n",
       "4881    7410  0s - 0,5s  \n",
       "613     4680  0s - 0,5s  \n",
       "4894    4228  0s - 0,5s  "
      ]
     },
     "execution_count": 142,
     "metadata": {},
     "output_type": "execute_result"
    }
   ],
   "source": [
    "\n",
    "req_timetaken = data.groupby(by=['csuri'])['timetaken'].mean().reset_index().sort_values(by='csuri')\n",
    "\n",
    "req_qtd = data.groupby(by=['csuri'])['csmethod'].count().reset_index().sort_values(by='csuri')\n",
    "\n",
    "dados_request = {'URI':[], 'Media TameTaken': [], 'Qtd' : [], 'Hist' : []}\n",
    "\n",
    "\n",
    "for val in req_timetaken['csuri'].values:\n",
    "    dados_request['URI'].append(val)\n",
    "\n",
    "for val in req_timetaken['timetaken'].values:\n",
    "    dados_request['Media TameTaken'].append(val)\n",
    "\n",
    "for ad in req_qtd['csmethod'].values:\n",
    "    dados_request['Qtd'].append(ad)\n",
    "    \n",
    "for index in range(len(dados_request['Media TameTaken'])):\n",
    "    if dados_request['Media TameTaken'][index] <= 0.5:\n",
    "        dados_request['Hist'].insert(index, '0s - 0,5s')\n",
    "    elif dados_request['Media TameTaken'][index] <= 1:\n",
    "        dados_request['Hist'].insert(index, '0,5s - 1s')\n",
    "    elif dados_request['Media TameTaken'][index] <= 1.5:\n",
    "        dados_request['Hist'].insert(index, '1s - 1,5s')\n",
    "    elif dados_request['Media TameTaken'][index] <= 2:\n",
    "        dados_request['Hist'].insert(index, '1.5s - 2s')\n",
    "    else:\n",
    "        dados_request['Hist'].insert(index, 'Maior 2s')    \n",
    "         \n",
    "\n",
    "df = pd.DataFrame(dados_request, columns=['URI','Media TameTaken', 'Qtd', 'Hist' ])\n",
    "df.sort_values(by='Qtd',ascending=0).head()"
   ]
  },
  {
   "cell_type": "code",
   "execution_count": 143,
   "metadata": {
    "collapsed": true
   },
   "outputs": [],
   "source": [
    "writer = pd.ExcelWriter(PATH + FILE_NAME_EXCEL, engine='xlsxwriter')\n",
    "df.to_excel(writer, sheet_name='Plan1')\n",
    "writer.save()\n",
    "\n",
    "\n"
   ]
  }
 ],
 "metadata": {
  "kernelspec": {
   "display_name": "Python 3",
   "language": "python",
   "name": "python3"
  },
  "language_info": {
   "codemirror_mode": {
    "name": "ipython",
    "version": 3
   },
   "file_extension": ".py",
   "mimetype": "text/x-python",
   "name": "python",
   "nbconvert_exporter": "python",
   "pygments_lexer": "ipython3",
   "version": "3.8.3"
  }
 },
 "nbformat": 4,
 "nbformat_minor": 2
}
