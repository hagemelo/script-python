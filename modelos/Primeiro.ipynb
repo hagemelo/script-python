{
 "cells": [
  {
   "cell_type": "code",
   "execution_count": 1,
   "metadata": {},
   "outputs": [
    {
     "name": "stdout",
     "output_type": "stream",
     "text": [
      "A é MAIOR q b\n",
      "Nome::2\n",
      "ALEXSANDER IDADE DE 52\n",
      " 52\n",
      " 5\n"
     ]
    }
   ],
   "source": [
    "a = 52\n",
    "b = 33\n",
    "verificacao = a<b\n",
    "if verificacao:\n",
    "    print('A é menor q b')\n",
    "else:\n",
    "    print('A é MAIOR q b')\n",
    "\n",
    "idade = \"Idade\"\n",
    "nome= \"Alexsander %s de %d\" % (idade,a)\n",
    "\n",
    "print(\"Nome::\" + nome[-1])\n",
    "print(nome.upper())\n",
    "print(nome[-3:])\n",
    "print(nome[-3:-1])"
   ]
  },
  {
   "cell_type": "code",
   "execution_count": 40,
   "metadata": {
    "scrolled": true
   },
   "outputs": [
    {
     "name": "stdout",
     "output_type": "stream",
     "text": [
      "1\n",
      "2\n",
      "4\n",
      "5\n",
      "6\n",
      "7\n",
      "8\n",
      "10\n"
     ]
    }
   ],
   "source": [
    "for i in [1,2,4,5,6,7,8,10]:\n",
    "    print(i)"
   ]
  },
  {
   "cell_type": "code",
   "execution_count": 45,
   "metadata": {},
   "outputs": [
    {
     "name": "stdout",
     "output_type": "stream",
     "text": [
      "1\n",
      "2\n",
      "3\n",
      "4\n",
      "5\n"
     ]
    }
   ],
   "source": [
    "for a in range(1, 6):\n",
    "    print(a)"
   ]
  },
  {
   "cell_type": "code",
   "execution_count": 1,
   "metadata": {},
   "outputs": [
    {
     "name": "stdout",
     "output_type": "stream",
     "text": [
      "{1, 4, 'teste'}\n",
      "{1, 4, 'teste', 60}\n"
     ]
    }
   ],
   "source": [
    "tupla = {1, 4, 'teste'}\n",
    "print(tupla)\n",
    "tupla.add(60)\n",
    "print(tupla)"
   ]
  },
  {
   "cell_type": "code",
   "execution_count": 3,
   "metadata": {},
   "outputs": [
    {
     "name": "stdout",
     "output_type": "stream",
     "text": [
      "{'01': 34, '02': 87, '09': 12}\n",
      "dict_keys(['01', '02', '09'])\n",
      "dict_values([34, 87, 12])\n",
      "87\n"
     ]
    }
   ],
   "source": [
    "dicionario= {'01': 34, '02': 87, \"09\": 12}\n",
    "print(dicionario)\n",
    "print(dicionario.keys())\n",
    "print(dicionario.values())\n",
    "print(dicionario[\"02\"])"
   ]
  },
  {
   "cell_type": "code",
   "execution_count": 4,
   "metadata": {},
   "outputs": [
    {
     "name": "stdout",
     "output_type": "stream",
     "text": [
      "20\n",
      "8\n"
     ]
    }
   ],
   "source": [
    "def soma(*var):\n",
    "    return sum(*var)\n",
    "\n",
    "print(soma([1,4,6,8,1]))\n",
    "\n",
    "b = lambda x: x * 2\n",
    "\n",
    "print(b(4))\n",
    "\n"
   ]
  },
  {
   "cell_type": "code",
   "execution_count": 6,
   "metadata": {},
   "outputs": [
    {
     "name": "stdout",
     "output_type": "stream",
     "text": [
      "487.875\n",
      "43\n",
      "-2004260032\n"
     ]
    }
   ],
   "source": [
    "import numpy as np\n",
    "\n",
    "a = np.array([[23, 343, 3434,43], [6,8,23,23]])\n",
    "\n",
    "print(a.mean())\n",
    "print(a[0][3])\n",
    "b = np.arange(1, 10000001).sum()\n",
    "\n",
    "print(b)"
   ]
  },
  {
   "cell_type": "code",
   "execution_count": 7,
   "metadata": {},
   "outputs": [
    {
     "name": "stdout",
     "output_type": "stream",
     "text": [
      "[[ 0  1  2  3]\n",
      " [ 4  5  6  7]\n",
      " [ 8  9 10 11]\n",
      " [12 13 14 15]\n",
      " [16 17 18 19]]\n",
      "Item 5 - 5\n"
     ]
    }
   ],
   "source": [
    "import numpy as np\n",
    "\n",
    "joa = [23,34,67]\n",
    "pedro= [65, 67, 76]\n",
    "maria=[32,56,45]\n",
    "marco = [67,78,90]\n",
    "\n",
    "ponto = np.array([joa, pedro,maria,marco])\n",
    "\n",
    "lista = np.arange(0,20)\n",
    "matriz = np.reshape(lista, (5,4))\n",
    "print(matriz)\n",
    "print('Item 5 - ' + str(matriz.item(5)))"
   ]
  },
  {
   "cell_type": "code",
   "execution_count": 8,
   "metadata": {},
   "outputs": [
    {
     "name": "stdout",
     "output_type": "stream",
     "text": [
      "[[ 1.39130435  1.64705882  0.67164179]\n",
      " [ 1.03076923  1.1641791   1.18421053]]\n"
     ]
    }
   ],
   "source": [
    "import numpy as np\n",
    "\n",
    "\n",
    "joa = [23,34,67]\n",
    "pedro= [65, 67, 76]\n",
    "maria=[32,56,45]\n",
    "marco = [67,78,90]\n",
    "\n",
    "m1 = np.array([joa, pedro])\n",
    "m2 = np.array([maria,marco])\n",
    "\n",
    "divi = m2/m1\n",
    "print(divi)\n",
    "\n",
    "\n"
   ]
  },
  {
   "cell_type": "code",
   "execution_count": 9,
   "metadata": {},
   "outputs": [
    {
     "data": {
      "text/plain": [
       "[<matplotlib.lines.Line2D at 0x8825e80>]"
      ]
     },
     "execution_count": 9,
     "metadata": {},
     "output_type": "execute_result"
    },
    {
     "data": {
      "image/png": "[encoded data removed]",
      "text/plain": [
       "<matplotlib.figure.Figure at 0x8789470>"
      ]
     },
     "metadata": {},
     "output_type": "display_data"
    }
   ],
   "source": [
    "import matplotlib.pyplot as plt\n",
    "%matplotlib inline\n",
    "plt.plot(m1[0])\n",
    "\n"
   ]
  },
  {
   "cell_type": "code",
   "execution_count": 17,
   "metadata": {},
   "outputs": [
    {
     "data": {
      "image/png": "[encoded data removed]",
      "text/plain": [
       "<matplotlib.figure.Figure at 0x6f6c630>"
      ]
     },
     "metadata": {},
     "output_type": "display_data"
    }
   ],
   "source": [
    "import matplotlib.pyplot as plt\n",
    "%matplotlib inline\n",
    "plt.plot(m1[0], c='yellow', ls='--', marker='s', ms=8, label='Valores')\n",
    "plt.legend()\n",
    "plt.show()"
   ]
  },
  {
   "cell_type": "code",
   "execution_count": 42,
   "metadata": {},
   "outputs": [
    {
     "name": "stdout",
     "output_type": "stream",
     "text": [
      "[[23 34 67]\n",
      " [78 65 12]]\n",
      "[101  99  79]\n",
      "279\n",
      "[[23 34  1 67]\n",
      " [78 65  1 12]]\n",
      "[[23 34  1 67]\n",
      " [78 65  1 12]\n",
      " [ 2  1  6  7]\n",
      " [ 2  1  6  7]]\n",
      "XXXXX\n",
      "[[23 34  1 67]\n",
      " [ 2  1  6  7]\n",
      " [ 2  1  6  7]]\n"
     ]
    }
   ],
   "source": [
    "import numpy as np\n",
    "\n",
    "joa = np.array([[23,34,67], [78,65,12]])\n",
    "print(joa)\n",
    "print(joa.sum(axis=0))\n",
    "print(joa.sum())\n",
    "\n",
    "novo = np.insert(joa, 2, 1, axis=1)\n",
    "print(novo)\n",
    "\n",
    "novo = np.append(novo, [[2, 1,6,7], [2, 1,6,7]], axis=0)\n",
    "\n",
    "print(novo)\n",
    "print('XXXXX')\n",
    "novo = np.delete(novo, 1, 0)\n",
    "print(novo)"
   ]
  },
  {
   "cell_type": "code",
   "execution_count": 48,
   "metadata": {},
   "outputs": [
    {
     "data": {
      "text/plain": [
       "[array([[1, 2, 3]]), array([[4, 5, 6]])]"
      ]
     },
     "execution_count": 48,
     "metadata": {},
     "output_type": "execute_result"
    }
   ],
   "source": [
    "import numpy as np\n",
    "\n",
    "lt1 = np.array([[1,2,3], [4,5,6]])\n",
    "lt1\n",
    "np.array_split(lt1, 2, )"
   ]
  },
  {
   "cell_type": "code",
   "execution_count": 57,
   "metadata": {},
   "outputs": [
    {
     "name": "stdout",
     "output_type": "stream",
     "text": [
      "[[ 0.  0.  0.  0.]\n",
      " [ 0.  0.  0.  0.]]\n",
      "[[ 1.  1.  1.]\n",
      " [ 1.  1.  1.]\n",
      " [ 1.  1.  1.]]\n",
      "[[ 1.  0.  0.  0.]\n",
      " [ 0.  1.  0.  0.]\n",
      " [ 0.  0.  1.  0.]\n",
      " [ 0.  0.  0.  1.]]\n"
     ]
    }
   ],
   "source": [
    "import numpy as np\n",
    "\n",
    "lt1 = np.zeros((2,4))\n",
    "print(lt1)\n",
    "lt1 = np.ones((3,3))\n",
    "print(lt1)\n",
    "\n",
    "lh = np.eye(4)\n",
    "print(lh)\n"
   ]
  },
  {
   "cell_type": "code",
   "execution_count": 1,
   "metadata": {},
   "outputs": [
    {
     "data": {
      "text/plain": [
       "array([4, 5, 6])"
      ]
     },
     "execution_count": 1,
     "metadata": {},
     "output_type": "execute_result"
    }
   ],
   "source": [
    "import numpy as np\n",
    "\n",
    "lt1 = np.array([[1,2,3], [4,5,6]])\n",
    "lt1[lt1 > 3]"
   ]
  },
  {
   "cell_type": "code",
   "execution_count": 47,
   "metadata": {},
   "outputs": [],
   "source": [
    "import pandas as pd\n",
    "\n",
    "alunos1 = pd.DataFrame({'Nome': ['Maria', 'Sofia'],\n",
    "                       'Nota':[8,9],\n",
    "                      'DataNota': ['15-05-2017 18:15:01', '2-09-2017 9:54:31']})\n",
    "alunos2 = pd.DataFrame({'Nome': ['João', 'Pedro', 'Maria'],\n",
    "                       'Nota':[1,2,3],\n",
    "                       'DataNota': ['15-05-2017 18:15:01', '2-09-2017 9:54:31',  '30-06-2017 0:54:31']})"
   ]
  },
  {
   "cell_type": "code",
   "execution_count": 48,
   "metadata": {},
   "outputs": [
    {
     "data": {
      "text/html": [
       "<div>\n",
       "<style>\n",
       "    .dataframe thead tr:only-child th {\n",
       "        text-align: right;\n",
       "    }\n",
       "\n",
       "    .dataframe thead th {\n",
       "        text-align: left;\n",
       "    }\n",
       "\n",
       "    .dataframe tbody tr th {\n",
       "        vertical-align: top;\n",
       "    }\n",
       "</style>\n",
       "<table border=\"1\" class=\"dataframe\">\n",
       "  <thead>\n",
       "    <tr style=\"text-align: right;\">\n",
       "      <th></th>\n",
       "      <th>DataNota_x</th>\n",
       "      <th>Nome</th>\n",
       "      <th>Nota_x</th>\n",
       "      <th>DataNota_y</th>\n",
       "      <th>Nota_y</th>\n",
       "    </tr>\n",
       "  </thead>\n",
       "  <tbody>\n",
       "    <tr>\n",
       "      <th>0</th>\n",
       "      <td>15-05-2017 18:15:01</td>\n",
       "      <td>Maria</td>\n",
       "      <td>8</td>\n",
       "      <td>30-06-2017 0:54:31</td>\n",
       "      <td>3</td>\n",
       "    </tr>\n",
       "  </tbody>\n",
       "</table>\n",
       "</div>"
      ],
      "text/plain": [
       "            DataNota_x   Nome  Nota_x          DataNota_y  Nota_y\n",
       "0  15-05-2017 18:15:01  Maria       8  30-06-2017 0:54:31       3"
      ]
     },
     "execution_count": 48,
     "metadata": {},
     "output_type": "execute_result"
    }
   ],
   "source": [
    "#Merger\n",
    "alunos = pd.merge(alunos1, alunos2, on='Nome')\n",
    "alunos"
   ]
  },
  {
   "cell_type": "code",
   "execution_count": 49,
   "metadata": {},
   "outputs": [
    {
     "data": {
      "text/html": [
       "<div>\n",
       "<style>\n",
       "    .dataframe thead tr:only-child th {\n",
       "        text-align: right;\n",
       "    }\n",
       "\n",
       "    .dataframe thead th {\n",
       "        text-align: left;\n",
       "    }\n",
       "\n",
       "    .dataframe tbody tr th {\n",
       "        vertical-align: top;\n",
       "    }\n",
       "</style>\n",
       "<table border=\"1\" class=\"dataframe\">\n",
       "  <thead>\n",
       "    <tr style=\"text-align: right;\">\n",
       "      <th></th>\n",
       "      <th>DataNota</th>\n",
       "      <th>Nome</th>\n",
       "      <th>Nota</th>\n",
       "    </tr>\n",
       "  </thead>\n",
       "  <tbody>\n",
       "    <tr>\n",
       "      <th>0</th>\n",
       "      <td>15-05-2017 18:15:01</td>\n",
       "      <td>Maria</td>\n",
       "      <td>8</td>\n",
       "    </tr>\n",
       "    <tr>\n",
       "      <th>1</th>\n",
       "      <td>2-09-2017 9:54:31</td>\n",
       "      <td>Sofia</td>\n",
       "      <td>9</td>\n",
       "    </tr>\n",
       "    <tr>\n",
       "      <th>2</th>\n",
       "      <td>15-05-2017 18:15:01</td>\n",
       "      <td>João</td>\n",
       "      <td>1</td>\n",
       "    </tr>\n",
       "    <tr>\n",
       "      <th>3</th>\n",
       "      <td>2-09-2017 9:54:31</td>\n",
       "      <td>Pedro</td>\n",
       "      <td>2</td>\n",
       "    </tr>\n",
       "    <tr>\n",
       "      <th>4</th>\n",
       "      <td>30-06-2017 0:54:31</td>\n",
       "      <td>Maria</td>\n",
       "      <td>3</td>\n",
       "    </tr>\n",
       "  </tbody>\n",
       "</table>\n",
       "</div>"
      ],
      "text/plain": [
       "              DataNota   Nome  Nota\n",
       "0  15-05-2017 18:15:01  Maria     8\n",
       "1    2-09-2017 9:54:31  Sofia     9\n",
       "2  15-05-2017 18:15:01   João     1\n",
       "3    2-09-2017 9:54:31  Pedro     2\n",
       "4   30-06-2017 0:54:31  Maria     3"
      ]
     },
     "execution_count": 49,
     "metadata": {},
     "output_type": "execute_result"
    }
   ],
   "source": [
    "#Merger outer\n",
    "alunos_novos = pd.merge(alunos1, alunos2, how='outer')\n",
    "alunos_novos"
   ]
  },
  {
   "cell_type": "code",
   "execution_count": 50,
   "metadata": {},
   "outputs": [
    {
     "data": {
      "text/html": [
       "<div>\n",
       "<style>\n",
       "    .dataframe thead tr:only-child th {\n",
       "        text-align: right;\n",
       "    }\n",
       "\n",
       "    .dataframe thead th {\n",
       "        text-align: left;\n",
       "    }\n",
       "\n",
       "    .dataframe tbody tr th {\n",
       "        vertical-align: top;\n",
       "    }\n",
       "</style>\n",
       "<table border=\"1\" class=\"dataframe\">\n",
       "  <thead>\n",
       "    <tr style=\"text-align: right;\">\n",
       "      <th></th>\n",
       "      <th>DataNota</th>\n",
       "      <th>Nome</th>\n",
       "      <th>Nota</th>\n",
       "    </tr>\n",
       "  </thead>\n",
       "  <tbody>\n",
       "    <tr>\n",
       "      <th>0</th>\n",
       "      <td>15-05-2017 18:15:01</td>\n",
       "      <td>Maria</td>\n",
       "      <td>8</td>\n",
       "    </tr>\n",
       "    <tr>\n",
       "      <th>1</th>\n",
       "      <td>2-09-2017 9:54:31</td>\n",
       "      <td>Sofia</td>\n",
       "      <td>9</td>\n",
       "    </tr>\n",
       "  </tbody>\n",
       "</table>\n",
       "</div>"
      ],
      "text/plain": [
       "              DataNota   Nome  Nota\n",
       "0  15-05-2017 18:15:01  Maria     8\n",
       "1    2-09-2017 9:54:31  Sofia     9"
      ]
     },
     "execution_count": 50,
     "metadata": {},
     "output_type": "execute_result"
    }
   ],
   "source": [
    "#Merger outer\n",
    "alunos_left = pd.merge(alunos1, alunos2, how='left')\n",
    "alunos_left"
   ]
  },
  {
   "cell_type": "code",
   "execution_count": 51,
   "metadata": {},
   "outputs": [
    {
     "data": {
      "text/html": [
       "<div>\n",
       "<style>\n",
       "    .dataframe thead tr:only-child th {\n",
       "        text-align: right;\n",
       "    }\n",
       "\n",
       "    .dataframe thead th {\n",
       "        text-align: left;\n",
       "    }\n",
       "\n",
       "    .dataframe tbody tr th {\n",
       "        vertical-align: top;\n",
       "    }\n",
       "</style>\n",
       "<table border=\"1\" class=\"dataframe\">\n",
       "  <thead>\n",
       "    <tr style=\"text-align: right;\">\n",
       "      <th></th>\n",
       "      <th>DataNota</th>\n",
       "      <th>Nome</th>\n",
       "      <th>Nota</th>\n",
       "    </tr>\n",
       "  </thead>\n",
       "  <tbody>\n",
       "    <tr>\n",
       "      <th>0</th>\n",
       "      <td>2017-05-15 18:15:01</td>\n",
       "      <td>Maria</td>\n",
       "      <td>8</td>\n",
       "    </tr>\n",
       "    <tr>\n",
       "      <th>1</th>\n",
       "      <td>2017-09-02 09:54:31</td>\n",
       "      <td>Sofia</td>\n",
       "      <td>9</td>\n",
       "    </tr>\n",
       "    <tr>\n",
       "      <th>2</th>\n",
       "      <td>2017-05-15 18:15:01</td>\n",
       "      <td>João</td>\n",
       "      <td>1</td>\n",
       "    </tr>\n",
       "    <tr>\n",
       "      <th>3</th>\n",
       "      <td>2017-09-02 09:54:31</td>\n",
       "      <td>Pedro</td>\n",
       "      <td>2</td>\n",
       "    </tr>\n",
       "    <tr>\n",
       "      <th>4</th>\n",
       "      <td>2017-06-30 00:54:31</td>\n",
       "      <td>Maria</td>\n",
       "      <td>3</td>\n",
       "    </tr>\n",
       "  </tbody>\n",
       "</table>\n",
       "</div>"
      ],
      "text/plain": [
       "             DataNota   Nome  Nota\n",
       "0 2017-05-15 18:15:01  Maria     8\n",
       "1 2017-09-02 09:54:31  Sofia     9\n",
       "2 2017-05-15 18:15:01   João     1\n",
       "3 2017-09-02 09:54:31  Pedro     2\n",
       "4 2017-06-30 00:54:31  Maria     3"
      ]
     },
     "execution_count": 51,
     "metadata": {},
     "output_type": "execute_result"
    }
   ],
   "source": [
    "alunos_novos['DataNota'] = pd.to_datetime(alunos_novos['DataNota'], format='%d-%m-%Y %H:%M:%S') \n",
    "alunos_novos"
   ]
  },
  {
   "cell_type": "code",
   "execution_count": 52,
   "metadata": {},
   "outputs": [
    {
     "data": {
      "text/html": [
       "<div>\n",
       "<style>\n",
       "    .dataframe thead tr:only-child th {\n",
       "        text-align: right;\n",
       "    }\n",
       "\n",
       "    .dataframe thead th {\n",
       "        text-align: left;\n",
       "    }\n",
       "\n",
       "    .dataframe tbody tr th {\n",
       "        vertical-align: top;\n",
       "    }\n",
       "</style>\n",
       "<table border=\"1\" class=\"dataframe\">\n",
       "  <thead>\n",
       "    <tr style=\"text-align: right;\">\n",
       "      <th></th>\n",
       "      <th>Nome</th>\n",
       "      <th>Nota</th>\n",
       "    </tr>\n",
       "    <tr>\n",
       "      <th>DataNota</th>\n",
       "      <th></th>\n",
       "      <th></th>\n",
       "    </tr>\n",
       "  </thead>\n",
       "  <tbody>\n",
       "    <tr>\n",
       "      <th>2017-05-15 18:15:01</th>\n",
       "      <td>Maria</td>\n",
       "      <td>8</td>\n",
       "    </tr>\n",
       "    <tr>\n",
       "      <th>2017-09-02 09:54:31</th>\n",
       "      <td>Sofia</td>\n",
       "      <td>9</td>\n",
       "    </tr>\n",
       "    <tr>\n",
       "      <th>2017-05-15 18:15:01</th>\n",
       "      <td>João</td>\n",
       "      <td>1</td>\n",
       "    </tr>\n",
       "    <tr>\n",
       "      <th>2017-09-02 09:54:31</th>\n",
       "      <td>Pedro</td>\n",
       "      <td>2</td>\n",
       "    </tr>\n",
       "    <tr>\n",
       "      <th>2017-06-30 00:54:31</th>\n",
       "      <td>Maria</td>\n",
       "      <td>3</td>\n",
       "    </tr>\n",
       "  </tbody>\n",
       "</table>\n",
       "</div>"
      ],
      "text/plain": [
       "                      Nome  Nota\n",
       "DataNota                        \n",
       "2017-05-15 18:15:01  Maria     8\n",
       "2017-09-02 09:54:31  Sofia     9\n",
       "2017-05-15 18:15:01   João     1\n",
       "2017-09-02 09:54:31  Pedro     2\n",
       "2017-06-30 00:54:31  Maria     3"
      ]
     },
     "execution_count": 52,
     "metadata": {},
     "output_type": "execute_result"
    }
   ],
   "source": [
    "alunos_novos.set_index(['DataNota'], inplace=True) \n",
    "alunos_novos.head()"
   ]
  },
  {
   "cell_type": "code",
   "execution_count": 55,
   "metadata": {},
   "outputs": [
    {
     "data": {
      "text/html": [
       "<div>\n",
       "<style>\n",
       "    .dataframe thead tr:only-child th {\n",
       "        text-align: right;\n",
       "    }\n",
       "\n",
       "    .dataframe thead th {\n",
       "        text-align: left;\n",
       "    }\n",
       "\n",
       "    .dataframe tbody tr th {\n",
       "        vertical-align: top;\n",
       "    }\n",
       "</style>\n",
       "<table border=\"1\" class=\"dataframe\">\n",
       "  <thead>\n",
       "    <tr style=\"text-align: right;\">\n",
       "      <th></th>\n",
       "      <th>Nome</th>\n",
       "      <th>Nota</th>\n",
       "    </tr>\n",
       "    <tr>\n",
       "      <th>DataNota</th>\n",
       "      <th></th>\n",
       "      <th></th>\n",
       "    </tr>\n",
       "  </thead>\n",
       "  <tbody>\n",
       "    <tr>\n",
       "      <th>2017-05-15 18:15:01</th>\n",
       "      <td>Maria</td>\n",
       "      <td>8</td>\n",
       "    </tr>\n",
       "    <tr>\n",
       "      <th>2017-05-15 18:15:01</th>\n",
       "      <td>João</td>\n",
       "      <td>1</td>\n",
       "    </tr>\n",
       "  </tbody>\n",
       "</table>\n",
       "</div>"
      ],
      "text/plain": [
       "                      Nome  Nota\n",
       "DataNota                        \n",
       "2017-05-15 18:15:01  Maria     8\n",
       "2017-05-15 18:15:01   João     1"
      ]
     },
     "execution_count": 55,
     "metadata": {},
     "output_type": "execute_result"
    }
   ],
   "source": [
    "alunos_novos['2017-05-15 18']"
   ]
  },
  {
   "cell_type": "code",
   "execution_count": 56,
   "metadata": {},
   "outputs": [
    {
     "data": {
      "text/html": [
       "<div>\n",
       "<style>\n",
       "    .dataframe thead tr:only-child th {\n",
       "        text-align: right;\n",
       "    }\n",
       "\n",
       "    .dataframe thead th {\n",
       "        text-align: left;\n",
       "    }\n",
       "\n",
       "    .dataframe tbody tr th {\n",
       "        vertical-align: top;\n",
       "    }\n",
       "</style>\n",
       "<table border=\"1\" class=\"dataframe\">\n",
       "  <thead>\n",
       "    <tr style=\"text-align: right;\">\n",
       "      <th></th>\n",
       "      <th>Nome</th>\n",
       "      <th>Nota</th>\n",
       "    </tr>\n",
       "    <tr>\n",
       "      <th>DataNota</th>\n",
       "      <th></th>\n",
       "      <th></th>\n",
       "    </tr>\n",
       "  </thead>\n",
       "  <tbody>\n",
       "    <tr>\n",
       "      <th>2017-05-15 18:15:01</th>\n",
       "      <td>Maria</td>\n",
       "      <td>8</td>\n",
       "    </tr>\n",
       "    <tr>\n",
       "      <th>2017-05-15 18:15:01</th>\n",
       "      <td>João</td>\n",
       "      <td>1</td>\n",
       "    </tr>\n",
       "    <tr>\n",
       "      <th>2017-06-30 00:54:31</th>\n",
       "      <td>Maria</td>\n",
       "      <td>3</td>\n",
       "    </tr>\n",
       "  </tbody>\n",
       "</table>\n",
       "</div>"
      ],
      "text/plain": [
       "                      Nome  Nota\n",
       "DataNota                        \n",
       "2017-05-15 18:15:01  Maria     8\n",
       "2017-05-15 18:15:01   João     1\n",
       "2017-06-30 00:54:31  Maria     3"
      ]
     },
     "execution_count": 56,
     "metadata": {},
     "output_type": "execute_result"
    }
   ],
   "source": [
    "alunos_novos['2017-05-15' : '2017-06-30']"
   ]
  }
 ],
 "metadata": {
  "kernelspec": {
   "display_name": "Python 3",
   "language": "python",
   "name": "python3"
  },
  "language_info": {
   "codemirror_mode": {
    "name": "ipython",
    "version": 3
   },
   "file_extension": ".py",
   "mimetype": "text/x-python",
   "name": "python",
   "nbconvert_exporter": "python",
   "pygments_lexer": "ipython3",
   "version": "3.6.5"
  }
 },
 "nbformat": 4,
 "nbformat_minor": 2
}
