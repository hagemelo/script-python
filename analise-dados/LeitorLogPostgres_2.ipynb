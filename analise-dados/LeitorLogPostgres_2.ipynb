{
 "cells": [
  {
   "cell_type": "markdown",
   "metadata": {
    "collapsed": true
   },
   "source": [
    "#Carregar Bibliotecas\n"
   ]
  },
  {
   "cell_type": "code",
   "execution_count": 19,
   "metadata": {
    "collapsed": true
   },
   "outputs": [],
   "source": [
    "import os\n",
    "import re\n",
    "import glob\n",
    "import sys\n",
    "import pandas as pd\n",
    "from datetime import datetime\n",
    "import numpy as np\n",
    "from pandas.compat import StringIO\n",
    "\n",
    "PATH = '/Users/Inmetrics/Documents/Sascar/4 - Coleta/BateriaDeExecucao/postgres/ps41/'\n",
    "LOGFILE='*out_queries.txt'\n",
    "#'teste.txt' #' '1403_1008_TESTEout_queries.txt' #'\n",
    "filesRead = glob.glob(PATH + LOGFILE)  \n",
    "fileRead = []\n",
    "df_metricas = pd.DataFrame()\n",
    "contadorlinha = -1"
   ]
  },
  {
   "cell_type": "markdown",
   "metadata": {},
   "source": [
    "#Métodos de Trampo sujo"
   ]
  },
  {
   "cell_type": "code",
   "execution_count": 20,
   "metadata": {
    "collapsed": true
   },
   "outputs": [],
   "source": [
    "def coletarDataHora(nomeArquivo):\n",
    "    valor = re.findall(\"\\d\\d\\d\\d\\S\\d\\d\\d\\d\", nomeArquivo)\n",
    "    date = datetime(2018,int(valor[0][5:7]),int(valor[0][7:9]),int(valor[0][0:2]),int(valor[0][2:4]),0)\n",
    "    return date\n",
    "\n",
    "def linhaMais(linha):\n",
    "    valor = re.findall(\"^(\\s+\\S){3}\", linha)\n",
    "    if valor:\n",
    "        return True\n",
    "    return False\n",
    "\n",
    "def processarlinha(linha):\n",
    "    cond1 = re.findall(\"^.+FROM  pg_stat_activity\", linha)\n",
    "    cond2 = re.findall(\"^.+datid\", linha)\n",
    "    cond3 = re.findall(\"^-----\", linha)\n",
    "    cond4 = re.findall(\"^.+row\", linha)\n",
    "    cond5 = re.findall(\"^\\s+$\", linha)\n",
    "    if cond1 or cond2 or cond3 or cond4 or cond5:\n",
    "        return False\n",
    "    return True\n",
    "\n",
    "def parse_datetime(x):\n",
    "    cond = re.findall(\"^\\s+\", x)\n",
    "    if not cond:\n",
    "        dt = datetime.strptime(x[1:20], '%Y-%m-%d %H:%M:%S')\n",
    "        return dt\n",
    "    else:\n",
    "        return None\n",
    "\n",
    "def incluirLinha(line, df_metricas):\n",
    "    #df_metricas = pd.DataFrame()\n",
    "    line = line.replace('||','+') \n",
    "    df = pd.read_csv(StringIO(line), sep=\"|\", names=['datid','datname','pid','usesysid','usename',\n",
    "                                                     'application_name','client_addr','client_hostname',\n",
    "                                                     'client_port','backend_start','xact_start',\n",
    "                                                     'query_start','state_change',\n",
    "                                                     'wait_event','state','backend_xid','backend_xmin',\n",
    "                                                     'query', 'Datahora'],\n",
    "                     converters={'backend_start': parse_datetime,\n",
    "                                'query_start': parse_datetime,\n",
    "                                'state_change': parse_datetime})\n",
    "    df_metricas = pd.concat([df_metricas,df])\n",
    "    return df_metricas"
   ]
  },
  {
   "cell_type": "code",
   "execution_count": 21,
   "metadata": {
    "collapsed": true
   },
   "outputs": [],
   "source": [
    "### REalizar parse\n",
    "def efetuarParse(arquivo):\n",
    "    global contadorlinha\n",
    "    global df_metricas\n",
    "    \n",
    "    fileRead = open(arquivo, \"r\", encoding='utf-8')\n",
    "    datahora = coletarDataHora(arquivo)\n",
    "    \n",
    "    for line in fileRead:\n",
    "        if (linhaMais(line)):\n",
    "            line = line.replace('|',' ') \n",
    "            df_metricas.iloc[contadorlinha , 17] = str(df_metricas.iloc[contadorlinha , 17]) + line\n",
    "        else:\n",
    "            if processarlinha(line):\n",
    "                df_metricas = incluirLinha(line, df_metricas)\n",
    "                contadorlinha +=1\n",
    "                df_metricas.iloc[contadorlinha , 18] =datahora\n",
    "    fileRead.close()\n",
    "    return df_metricas\n",
    "          \n"
   ]
  },
  {
   "cell_type": "code",
   "execution_count": 23,
   "metadata": {},
   "outputs": [],
   "source": [
    "for fileLog in filesRead:\n",
    "    df_metricas = efetuarParse(fileLog)\n",
    "\n",
    "writer = pd.ExcelWriter('/Users/Inmetrics/Documents/Sascar/Consultas172_19_12_41_out_queries.xlsx' , engine='xlsxwriter')\n",
    "df_metricas.to_excel(writer, sheet_name='Plan1')\n",
    "writer.save()"
   ]
  },
  {
   "cell_type": "code",
   "execution_count": null,
   "metadata": {
    "collapsed": true
   },
   "outputs": [],
   "source": []
  }
 ],
 "metadata": {
  "kernelspec": {
   "display_name": "Python 3",
   "language": "python",
   "name": "python3"
  },
  "language_info": {
   "codemirror_mode": {
    "name": "ipython",
    "version": 3
   },
   "file_extension": ".py",
   "mimetype": "text/x-python",
   "name": "python",
   "nbconvert_exporter": "python",
   "pygments_lexer": "ipython3",
   "version": "3.6.5"
  }
 },
 "nbformat": 4,
 "nbformat_minor": 2
}
