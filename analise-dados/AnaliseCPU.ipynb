{
 "cells": [
  {
   "cell_type": "code",
   "execution_count": 1,
   "metadata": {},
   "outputs": [],
   "source": [
    "from datetime import datetime\n",
    "import pytz\n",
    "import matplotlib.pyplot as plt\n",
    "%matplotlib inline\n",
    "import re\n",
    "import pandas as pd\n",
    "import numpy as np"
   ]
  },
  {
   "cell_type": "code",
   "execution_count": null,
   "metadata": {},
   "outputs": [],
   "source": [
    "def convToInt(val):\n",
    "    result = re.sub('\\D+', '' , val)\n",
    "    if result:\n",
    "        return int(result)\n",
    "    else:\n",
    "        return 0\n",
    "\n",
    "def parse_datetime(x):\n",
    "    return datetime.strptime(x[1:-3], '%d/%b/%Y:%H:%M')\n",
    "    \n",
    "def tratarURI(val):\n",
    "    result = re.sub('\\?.+$', '' , val)\n",
    "    return result\n",
    "\n",
    "def convertbytetoMbyte(val):\n",
    "    return (val/2048)"
   ]
  },
  {
   "cell_type": "code",
   "execution_count": null,
   "metadata": {},
   "outputs": [],
   "source": [
    "COLUMNS = ['Datatime','CPU','%usr','%nice','%sys','%iowait','%steal','%irq','%soft','%guest','%gnice','%idle']\n",
    "\n",
    "dadosAccesslog = pd.read_csv('ModeloSARCPU.log',\n",
    "                   sep='\\s+',\n",
    "                   engine='python', \n",
    "                   na_values='-', \n",
    "                   header=None ,\n",
    "                   usecols=[0, 3, 5, 6, 8, 9],\n",
    "                   names=COLUMNS\n",
    "                             ,\n",
    "                   converters={\n",
    "                            'status': convToInt,\n",
    "                            'bytes': convToInt,\n",
    "                            'datatime':parse_datetime}\n",
    "                   )"
   ]
  },
  {
   "cell_type": "code",
   "execution_count": null,
   "metadata": {},
   "outputs": [],
   "source": []
  },
  {
   "cell_type": "code",
   "execution_count": null,
   "metadata": {},
   "outputs": [],
   "source": []
  },
  {
   "cell_type": "code",
   "execution_count": null,
   "metadata": {},
   "outputs": [],
   "source": []
  },
  {
   "cell_type": "code",
   "execution_count": null,
   "metadata": {},
   "outputs": [],
   "source": []
  },
  {
   "cell_type": "code",
   "execution_count": null,
   "metadata": {},
   "outputs": [],
   "source": []
  },
  {
   "cell_type": "code",
   "execution_count": null,
   "metadata": {},
   "outputs": [],
   "source": []
  }
 ],
 "metadata": {
  "kernelspec": {
   "display_name": "Python 3",
   "language": "python",
   "name": "python3"
  },
  "language_info": {
   "codemirror_mode": {
    "name": "ipython",
    "version": 3
   },
   "file_extension": ".py",
   "mimetype": "text/x-python",
   "name": "python",
   "nbconvert_exporter": "python",
   "pygments_lexer": "ipython3",
   "version": "3.7.0"
  }
 },
 "nbformat": 4,
 "nbformat_minor": 2
}
